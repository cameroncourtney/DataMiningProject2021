{
  "nbformat": 4,
  "nbformat_minor": 0,
  "metadata": {
    "colab": {
      "provenance": []
    },
    "kernelspec": {
      "name": "python3",
      "display_name": "Python 3"
    },
    "language_info": {
      "name": "python"
    },
    "accelerator": "GPU"
  },
  "cells": [
    {
      "cell_type": "markdown",
      "source": [
        "# **Pitch Prediction Data Science Project**\n",
        "## Authors: Anshul Moondra, Cameron Courtney, Viren Velacheri\n",
        "\n",
        "\n"
      ],
      "metadata": {
        "id": "peSBj554avc8"
      }
    },
    {
      "cell_type": "markdown",
      "source": [
        "## **Introduction**\n",
        "The data science problem we are trying to solve involves predicting pitches in baseball. We want to see whether or not we can predict the kind of pitch a given pitch is based on various pitching attributes.\n",
        "\n",
        "Pitch classification is something in baseball that is needed instantly, as it is used in many data models that are ongoing throughout the game as well as for the fans as they show the pitch type on the scoreboard after each pitch. Pitchers often will also change their repertoire without telling anyone, so\n",
        "allowing the system to detect it quickly is beneficial for batters to know throughout the game. The results of this predictive model can help baseball teams and their batters improve their game plans against pitchers.\n",
        " \n",
        "The dataset we are using consists of over 22,527 records. A given record is representative of a single baseball pitch. Each record contains 16 different attributes that describe various aspects of the pitch. These attributes are listed below:\n",
        "\n",
        "- **p_throws**: what hand the pitcher throws with\n",
        "- **stand**: what side of the plate the batter was standing on\n",
        "- **description**: the result of the pitch\n",
        "- **release_speed**: the velocity of the pitch at release\n",
        "- **release_spin_rate**: the spin rate of the pitch at release\n",
        "- **spin_axis**: the axis on which the baseball spins\n",
        "- **pfx_x**: horizontal movement of the pitch in feet\n",
        "- **pfx_z**: the vertical movement of the pitch in feet\n",
        "- **release_pos_x**: the horizontal release point of the pitch\n",
        "- **release_pos_z**: the vertical release point of the pitch\n",
        "- **release_extension**: how far in front of the plate the pitch was released\n",
        "- **plate_x**: the horizontal location of the pitch\n",
        "- **plate_z**: the vertical location of the pitch\n",
        "- **pitch_name**: written out name of the pitch (Changeup, etc) (Class label or what we are trying to predict)\n",
        "- **pitch_type**: the abreviation of the pitch_name\n",
        "- **pitcher**: the unique ID number for a given pitcher\n",
        "\n",
        "Pitch name is the class label that we are trying to predict for. We will use the other attributes as a datapoint to make this prediction. **The different possible values for the class labels are the following: 4 Seam Fastball, Slider, Cutter, Changeup, Sinker, Split-Finger, Knuckle Curve, and Curveball**. "
      ],
      "metadata": {
        "id": "ZC6GabqRbvEy"
      }
    },
    {
      "cell_type": "markdown",
      "source": [
        "## **Google Colab Setup**\n",
        "Below is what we used to set up our Google Colab space. It is commented out now, but this is what allowed all of us in the group to be able to work on and access the notebook at the same time. "
      ],
      "metadata": {
        "id": "UESzVrN1ete9"
      }
    },
    {
      "cell_type": "code",
      "source": [
        "# from google.colab import drive\n",
        "# drive.mount('/content/gdrive')\n",
        "# %cd gdrive/MyDrive/DataMiningProjectCopy\n",
        "# %ls"
      ],
      "metadata": {
        "colab": {
          "base_uri": "https://localhost:8080/"
        },
        "id": "0w0IAexi76ey",
        "outputId": "b557e25e-3477-4391-c645-a8a5a92eff09"
      },
      "execution_count": null,
      "outputs": [
        {
          "output_type": "stream",
          "name": "stdout",
          "text": [
            "Drive already mounted at /content/gdrive; to attempt to forcibly remount, call drive.mount(\"/content/gdrive\", force_remount=True).\n",
            "[Errno 2] No such file or directory: 'gdrive/MyDrive/DataMiningProjectCopy'\n",
            "/content/gdrive/.shortcut-targets-by-id/1mp2LsCYxml8kmIBdoUz4nNQUfeHEXPdw/DataMiningProjectCopy\n",
            " classification-dataset.csv       Data_Mining_Project.ipynb\n",
            " classification-dataset.gsheet    DataMiningProject.ipynb\n",
            "'Copy of Project Proposal.gdoc'   finalized_model.sav\n"
          ]
        }
      ]
    },
    {
      "cell_type": "markdown",
      "source": [
        "## **Data Cleaning, Data Exploration, and Feature Engineering**"
      ],
      "metadata": {
        "id": "32k9vrhtfdHd"
      }
    },
    {
      "cell_type": "markdown",
      "source": [
        "## Reading and Quick Look at Dataset\n",
        "After importing some of the basic libraries that we know for sure that we would need for analysis, we read in our dataset and took a quick glance at it to see what it look likes as a dataframe."
      ],
      "metadata": {
        "id": "dsqouMs4gKoA"
      }
    },
    {
      "cell_type": "code",
      "source": [
        "# These import statements are needed for the various models we use.\n",
        "import pandas as pd\n",
        "import numpy as np\n",
        "import sklearn as sk\n",
        "import matplotlib.pyplot as plt\n",
        "import time\n",
        "# Imports for basic data splitting, cross validation, scoring, dimensionality\n",
        "# reduction, pipelines, and standardization.\n",
        "from sklearn.model_selection import train_test_split\n",
        "from sklearn.model_selection import cross_val_predict\n",
        "from sklearn.metrics import accuracy_score\n",
        "from sklearn.metrics import confusion_matrix\n",
        "from sklearn.metrics import classification_report\n",
        "from sklearn.model_selection import cross_val_score\n",
        "from sklearn.model_selection import GridSearchCV\n",
        "from sklearn.pipeline import Pipeline\n",
        "from sklearn.preprocessing import StandardScaler\n",
        "from sklearn.decomposition import PCA\n",
        "# SMOTE Balancing Our Models\n",
        "from imblearn.over_sampling import SMOTE\n",
        "from imblearn.pipeline import make_pipeline\n",
        "from imblearn.under_sampling import EditedNearestNeighbours\n",
        "# Decision Tree Classifier\n",
        "from sklearn.tree import DecisionTreeClassifier\n",
        "# Naive Bayes Classifier\n",
        "from sklearn.naive_bayes import GaussianNB\n",
        "# Neural Network Classifier\n",
        "from sklearn.neural_network import MLPClassifier\n",
        "from sklearn.utils._testing import ignore_warnings\n",
        "from sklearn.exceptions import ConvergenceWarning\n",
        "# K-Nearest Neighbor Classifier\n",
        "from sklearn.neighbors import KNeighborsClassifier\n",
        "# Support Vector Machine Classifier\n",
        "from sklearn.svm import SVC\n",
        "# Random Forest Classifier\n",
        "from sklearn.ensemble import RandomForestClassifier\n",
        "# Ensemble Classifiers\n",
        "from sklearn.ensemble import AdaBoostClassifier\n",
        "from sklearn.ensemble import GradientBoostingClassifier\n",
        "# Upload Final Model\n",
        "import pickle\n",
        "\n",
        "data = pd.read_csv(\"classification-dataset.csv\")\n",
        "print(data.head())"
      ],
      "metadata": {
        "colab": {
          "base_uri": "https://localhost:8080/"
        },
        "id": "wbXmnAwc97lh",
        "outputId": "98cec36b-2a0e-44d5-f20b-d91fe2d70937"
      },
      "execution_count": null,
      "outputs": [
        {
          "output_type": "stream",
          "name": "stdout",
          "text": [
            "   pitcher p_throws stand      description pitch_type pitch_name  \\\n",
            "0   453286        R     L  swinging_strike        NaN        NaN   \n",
            "1   453286        R     R    hit_into_play        NaN        NaN   \n",
            "2   453286        R     R             ball        NaN        NaN   \n",
            "3   453286        R     R             ball        NaN        NaN   \n",
            "4   453286        R     L    called_strike        NaN        NaN   \n",
            "\n",
            "   release_speed  release_spin_rate  spin_axis  pfx_x  pfx_z  release_pos_x  \\\n",
            "0           94.9             2356.0      219.0  -0.78   1.30          -3.06   \n",
            "1           94.5             2426.0      224.0  -0.84   1.17          -3.25   \n",
            "2           96.6             2429.0      212.0  -0.35   1.34          -2.99   \n",
            "3           95.1             2624.0      228.0  -0.81   1.23          -3.28   \n",
            "4           95.3             2385.0      224.0  -0.78   1.44          -3.15   \n",
            "\n",
            "   release_pos_z  release_extension  plate_x  plate_z  pitch_id  \n",
            "0           5.75                6.0    -0.87     3.24         1  \n",
            "1           5.49                6.3     0.53     2.86         2  \n",
            "2           5.72                6.3     1.19     3.55         3  \n",
            "3           5.11                6.7     1.00     1.15         4  \n",
            "4           5.52                6.4    -0.71     2.48         5  \n"
          ]
        }
      ]
    },
    {
      "cell_type": "markdown",
      "source": [
        "Based on the above above and after looking at background information regarding our dataset, we realized that the pitch_type and pitch_name were the same. The pitch_type is just the abbreviated form of pitch_name. Due to this, we proceeded to delete the pitch_type column from our dataframe."
      ],
      "metadata": {
        "id": "AwH-LB0iglsK"
      }
    },
    {
      "cell_type": "code",
      "source": [
        "del data['pitch_type']\n",
        "print(data.head())"
      ],
      "metadata": {
        "colab": {
          "base_uri": "https://localhost:8080/"
        },
        "id": "2kMN9tiA9-vo",
        "outputId": "078f9cb7-f708-4d94-d129-53d8fae19577"
      },
      "execution_count": null,
      "outputs": [
        {
          "output_type": "stream",
          "name": "stdout",
          "text": [
            "   pitcher p_throws stand      description pitch_name  release_speed  \\\n",
            "0   453286        R     L  swinging_strike        NaN           94.9   \n",
            "1   453286        R     R    hit_into_play        NaN           94.5   \n",
            "2   453286        R     R             ball        NaN           96.6   \n",
            "3   453286        R     R             ball        NaN           95.1   \n",
            "4   453286        R     L    called_strike        NaN           95.3   \n",
            "\n",
            "   release_spin_rate  spin_axis  pfx_x  pfx_z  release_pos_x  release_pos_z  \\\n",
            "0             2356.0      219.0  -0.78   1.30          -3.06           5.75   \n",
            "1             2426.0      224.0  -0.84   1.17          -3.25           5.49   \n",
            "2             2429.0      212.0  -0.35   1.34          -2.99           5.72   \n",
            "3             2624.0      228.0  -0.81   1.23          -3.28           5.11   \n",
            "4             2385.0      224.0  -0.78   1.44          -3.15           5.52   \n",
            "\n",
            "   release_extension  plate_x  plate_z  pitch_id  \n",
            "0                6.0    -0.87     3.24         1  \n",
            "1                6.3     0.53     2.86         2  \n",
            "2                6.3     1.19     3.55         3  \n",
            "3                6.7     1.00     1.15         4  \n",
            "4                6.4    -0.71     2.48         5  \n"
          ]
        }
      ]
    },
    {
      "cell_type": "markdown",
      "source": [
        "We then further explored the records to see how many N/A values our dataset contained. Due to the fact that only a small subset of records had N/A values (4,126) out of the total 22,526, we decided to just completely drop all records from the dataset that had at least one N/A value. Many of the N/A's came from the pitch_name of the pitch. Since this is the label we wanted to predict on, we felt that these records would not be helpful to us when it came time for model building. Similarly, for the other columns that had N/A's, we felt it would be unnecessary to perform methods such as imputation, as we still had more than enough data to properly carry out the construction of our models. Along with that, imputation doesn't really make sense for the spin rate and axis of a pitch, as those values might dramatically differ from pitch to pitch."
      ],
      "metadata": {
        "id": "0ghC2CClg-Fe"
      }
    },
    {
      "cell_type": "code",
      "source": [
        "print(data.shape)\n",
        "print(data.isna().sum())\n",
        "data = data.dropna()\n",
        "print(data.isna().sum())\n",
        "print(data.shape)"
      ],
      "metadata": {
        "colab": {
          "base_uri": "https://localhost:8080/"
        },
        "id": "8K-F8HOB-Ap0",
        "outputId": "1380ee1c-06b5-4be0-c23d-a3ab2cee4d84"
      },
      "execution_count": null,
      "outputs": [
        {
          "output_type": "stream",
          "name": "stdout",
          "text": [
            "(22526, 16)\n",
            "pitcher                 0\n",
            "p_throws                0\n",
            "stand                   0\n",
            "description             0\n",
            "pitch_name           4000\n",
            "release_speed           0\n",
            "release_spin_rate      42\n",
            "spin_axis              42\n",
            "pfx_x                   0\n",
            "pfx_z                   0\n",
            "release_pos_x           0\n",
            "release_pos_z           0\n",
            "release_extension      42\n",
            "plate_x                 0\n",
            "plate_z                 0\n",
            "pitch_id                0\n",
            "dtype: int64\n",
            "pitcher              0\n",
            "p_throws             0\n",
            "stand                0\n",
            "description          0\n",
            "pitch_name           0\n",
            "release_speed        0\n",
            "release_spin_rate    0\n",
            "spin_axis            0\n",
            "pfx_x                0\n",
            "pfx_z                0\n",
            "release_pos_x        0\n",
            "release_pos_z        0\n",
            "release_extension    0\n",
            "plate_x              0\n",
            "plate_z              0\n",
            "pitch_id             0\n",
            "dtype: int64\n",
            "(18493, 16)\n"
          ]
        }
      ]
    },
    {
      "cell_type": "markdown",
      "source": [
        "Although most of our features are numeric variables, two of our variables, p_throws and stand, were categorical. Due to this, we performed one-hot encoding on them. In our encoding, both variables now store either 1 (representing 'R') or 0 (representing 'L')."
      ],
      "metadata": {
        "id": "WiS6ZB5nh9Bl"
      }
    },
    {
      "cell_type": "code",
      "source": [
        "# One Hot Encoding of Categorical Variables\n",
        "data['p_throws'].replace(['L', 'R'], [0,1], inplace = True)\n",
        "data['stand'].replace(['L', 'R'], [0,1], inplace = True)"
      ],
      "metadata": {
        "id": "4i2B0BHb-EKC"
      },
      "execution_count": null,
      "outputs": []
    },
    {
      "cell_type": "markdown",
      "source": [
        "At the suggestion of Professor Beasley, we tried to keep the number of labels we wanted to predict relatively small (around 2 - 5 labels). With this in mind, we took a look at the possible pitch_labels to predict for and the respective counts for each of them. \n",
        "\n",
        "Initially, we hoped to find some groupings for each type of pitch label so that we could preserve our entire dataset. Based on background knowledge though, such groupings between these pitches didn't really exist. Because of this, we decided to just remove the labels that appeared the least in our dataset. Due to how very few records had the labels of **curveball**, **knuckle curve**, and **split-finger**, we decided to remove any records with these values.\n",
        "\n",
        "The counts of each type of pitch label are listed below. The records we ended up removing all appeared less than 1,000 times in our dataset, which is relatively small considering that our dataset initially contained over 20,000 records."
      ],
      "metadata": {
        "id": "hM1knpKhlqSj"
      }
    },
    {
      "cell_type": "code",
      "source": [
        "data['pitch_name'].value_counts().plot(kind = 'bar', color = 'orange')\n",
        "plt.title(\"Pitch Type Distribution\")\n",
        "plt.ylabel(\"Number of Pitches\")\n",
        "plt.xlabel(\"Pitch Type\")"
      ],
      "metadata": {
        "colab": {
          "base_uri": "https://localhost:8080/",
          "height": 383
        },
        "id": "cFOcyj0UnYjm",
        "outputId": "964b5bf1-3fc0-4368-8126-2d928a9c86da"
      },
      "execution_count": null,
      "outputs": [
        {
          "output_type": "execute_result",
          "data": {
            "text/plain": [
              "Text(0.5, 0, 'Pitch Type')"
            ]
          },
          "metadata": {},
          "execution_count": 23
        },
        {
          "output_type": "display_data",
          "data": {
            "text/plain": [
              "<Figure size 432x288 with 1 Axes>"
            ],
            "image/png": "[encoded data removed]"
          },
          "metadata": {
            "needs_background": "light"
          }
        }
      ]
    },
    {
      "cell_type": "markdown",
      "source": [
        "After removing the lowest three pitch labels from our data, these are the labels we have left. Our goal is to accurately be able to predict one of these 5 pitches. The pitches (and their counts) are listed below."
      ],
      "metadata": {
        "id": "W73G03Lsk861"
      }
    },
    {
      "cell_type": "code",
      "source": [
        "values = ['Split-Finger', 'Knuckle Curve', 'Curveball']\n",
        "data = data[data.pitch_name.isin(values) == False]\n",
        "\n",
        "data['pitch_name'].value_counts()"
      ],
      "metadata": {
        "colab": {
          "base_uri": "https://localhost:8080/"
        },
        "id": "jHTmX7hi-GYd",
        "outputId": "a18f48cb-91c3-410d-9439-c0f3b8fa1574"
      },
      "execution_count": null,
      "outputs": [
        {
          "output_type": "execute_result",
          "data": {
            "text/plain": [
              "4-Seam Fastball    6502\n",
              "Slider             3228\n",
              "Cutter             2989\n",
              "Changeup           2187\n",
              "Sinker             1613\n",
              "Name: pitch_name, dtype: int64"
            ]
          },
          "metadata": {},
          "execution_count": 24
        }
      ]
    },
    {
      "cell_type": "markdown",
      "source": [
        "## Feature Filtering\n",
        "We examined the features and decided which ones to remove based on our domain knowledge, low variability, and high correlation.\n"
      ],
      "metadata": {
        "id": "nPzoKNMxggwO"
      }
    },
    {
      "cell_type": "markdown",
      "source": [
        "### Domain Knowledge\n",
        "\n",
        "Based on strictly our knowledge of this domain, the variables that we decided to remove and the reasons we did so are listed below:\n",
        "\n",
        "**pitch_id and pitcher** – Both of these variables are identification information that are assigned to pitchers and the number of pitches a specific pitcher has thrown. They are not helpful in prediction as they are not relevant to the type of pitch.\n",
        "\n",
        "**description** - The result of a play is normally not dependent on the type of pitch as different batters deal with pitches in different ways. Because of this, we feel this variable would not be relevant in predicting the type of pitch that was thrown.\n",
        "\n",
        "**release_extension, release_pos_x, release_pos_z** – The release position should be roughly the same for each type of pitch, so there is little variablity present in these values. If a pitcher were deliberately changing their release points when throwing a specific pitch, they would be tipping off (giving away) the type of pitch they are throwing to the batter. This would not be smart which is why all of these values remain relatively similar for each pitch type.\n",
        "\n",
        "***Note: In the variability section, we will verify that what we said above with regards to the variables release_extension, release_pos_x, and release_pos_z are in fact true***"
      ],
      "metadata": {
        "id": "6JtWwETdiF7B"
      }
    },
    {
      "cell_type": "markdown",
      "source": [
        "###Variability\n",
        "\n",
        "We first took a look at the categorical variables that we had one hot encoded earlier (pthrows and stand). We made histograms to get a quick glance at whether there was enough variability amongst the values. Based on the below histograms, it was apparent to us that there was in fact enough variability and no obvious skewing. "
      ],
      "metadata": {
        "id": "HF2VIzlci3DC"
      }
    },
    {
      "cell_type": "code",
      "source": [
        "pthrows_orig = data['p_throws'].replace([0, 1], ['Left','Right'], inplace = False)\n",
        "pthrows_orig.value_counts().plot(kind = 'bar', color = 'orange')\n",
        "plt.title(\"Throwing Hand Distribution\")\n",
        "plt.xlabel(\"Throwing Hand\")\n",
        "plt.show()\n",
        "\n",
        "\n",
        "stand_orig = data['stand'].replace([0, 1], ['Left','Right'], inplace = False)\n",
        "stand_orig.value_counts().plot(kind = 'bar', color = 'orange')\n",
        "plt.title(\"Batting Side Distribution\")\n",
        "plt.xlabel(\"Batting Side\")\n",
        "plt.show()\n",
        "\n",
        "\n"
      ],
      "metadata": {
        "colab": {
          "base_uri": "https://localhost:8080/",
          "height": 607
        },
        "id": "mC_GD3UDi5W7",
        "outputId": "373d90b5-28f0-4481-d8f3-e9c56c0e5da4"
      },
      "execution_count": null,
      "outputs": [
        {
          "output_type": "display_data",
          "data": {
            "text/plain": [
              "<Figure size 432x288 with 1 Axes>"
            ],
            "image/png": "[encoded data removed]"
          },
          "metadata": {
            "needs_background": "light"
          }
        },
        {
          "output_type": "display_data",
          "data": {
            "text/plain": [
              "<Figure size 432x288 with 1 Axes>"
            ],
            "image/png": "[encoded data removed]"
          },
          "metadata": {
            "needs_background": "light"
          }
        }
      ]
    },
    {
      "cell_type": "markdown",
      "source": [
        "We then took a look at the numeric variables. For these, we simply looked at their respective variance values."
      ],
      "metadata": {
        "id": "fEowCYWrpzU0"
      }
    },
    {
      "cell_type": "code",
      "source": [
        "print(\"Release Speed Variability: \" + str(data['release_speed'].var()))\n",
        "print(\"Release Spin Rate: \" + str(data['release_spin_rate'].var()))\n",
        "print(\"Spin Axis: \" + str(data['spin_axis'].var()))\n",
        "print(\"Pfx_x: \" + str(data['pfx_x'].var()))\n",
        "print(\"Pfx_z: \" + str(data['pfx_z'].var()))\n",
        "print(\"Release Pos X: \" + str(data['release_pos_x'].var()))\n",
        "print(\"Release Pos Z: \" + str(data['release_pos_z'].var()))\n",
        "print(\"Release Extension: \" + str(data['release_extension'].var()))\n",
        "print(\"Plate X: \" + str(data['plate_x'].var()))\n",
        "print(\"Plate Z: \" + str(data['plate_z'].var()))"
      ],
      "metadata": {
        "colab": {
          "base_uri": "https://localhost:8080/"
        },
        "id": "JMTztWCRpyCX",
        "outputId": "14ed7841-4bfc-47b9-ff52-2aae668e975e"
      },
      "execution_count": null,
      "outputs": [
        {
          "output_type": "stream",
          "name": "stdout",
          "text": [
            "Release Speed Variability: 22.941476948165803\n",
            "Release Spin Rate: 124952.40838277544\n",
            "Spin Axis: 2613.2326132601306\n",
            "Pfx_x: 0.6307944099938104\n",
            "Pfx_z: 0.3238680291098727\n",
            "Release Pos X: 4.014829424431769\n",
            "Release Pos Z: 0.23950163194248636\n",
            "Release Extension: 0.06935857025611841\n",
            "Plate X: 0.6673774465403014\n",
            "Plate Z: 0.8960389026249447\n"
          ]
        }
      ]
    },
    {
      "cell_type": "markdown",
      "source": [
        "As mentioned before, we believed that there would be little variability amongst the **release_extension, release_pos_x, and release_pos_z** variables. Indeed this was the case as seen from above. However, there were other variables that had low variability as well. These variables were **pfx_x, pfx_z, plate_x, and plate_z**. For the variables **plate_x and plate_z** we were skeptical even before this as we were on the fence on whether these features would be relevant or not. After seeing the above results, we decided to play around with the removal and addition of these features for models that were sensitive to irrelevant features such as K-Nearest Neighbor and SVM. For the variables **pfx_x and pfx_z** on the other hand, we felt the opposite as we had reason to believe that it does make a difference as far as the kind of pitch thrown. Due to this, we decided to examine the variables more closely with the use of boxplots."
      ],
      "metadata": {
        "id": "umdiwxDjrHsq"
      }
    },
    {
      "cell_type": "code",
      "source": [
        "plt.boxplot(data['pfx_x'])\n",
        "plt.title(\"Pfx_x Distribution\")\n",
        "plt.ylabel(\"Pfx_x\")\n",
        "plt.show()\n",
        "\n",
        "plt.boxplot(data['pfx_z'])\n",
        "plt.title(\"Pfx_z Distribution\")\n",
        "plt.ylabel(\"Pfx_z\")\n",
        "plt.show()"
      ],
      "metadata": {
        "colab": {
          "base_uri": "https://localhost:8080/",
          "height": 545
        },
        "id": "zS9pShORuuCt",
        "outputId": "17793b4d-bd4d-470c-a2e4-c7ccc0287964"
      },
      "execution_count": null,
      "outputs": [
        {
          "output_type": "display_data",
          "data": {
            "text/plain": [
              "<Figure size 432x288 with 1 Axes>"
            ],
            "image/png": "[encoded data removed]"
          },
          "metadata": {
            "needs_background": "light"
          }
        },
        {
          "output_type": "display_data",
          "data": {
            "text/plain": [
              "<Figure size 432x288 with 1 Axes>"
            ],
            "image/png": "[encoded data removed]"
          },
          "metadata": {
            "needs_background": "light"
          }
        }
      ]
    },
    {
      "cell_type": "markdown",
      "source": [
        "As seen from above plots, it is apparent that the range of values for these respective variables is pretty small. Based on this, we feel like the variance values are actually pretty high considering the range displayed above. Due to this, we decided it was best to keep these features rather than remove them."
      ],
      "metadata": {
        "id": "RZMYuxpyvqk-"
      }
    },
    {
      "cell_type": "markdown",
      "source": [
        "### Correlation\n",
        "\n",
        "We examined the correlation values between all the columns. As seen below, it is evident that there isn't really any high correlation amongst any of the attributes. The only high correlations were between that of pfx_z and release_speed (r = 0.7) and p_throws and release_pos_x (r = -.92). In the sections below, these high correlations are accounted for. Other than these though, no features were removed or altered based on correlation."
      ],
      "metadata": {
        "id": "lqXQ9Td_wRqz"
      }
    },
    {
      "cell_type": "code",
      "source": [
        "data.corr()"
      ],
      "metadata": {
        "colab": {
          "base_uri": "https://localhost:8080/",
          "height": 488
        },
        "id": "KMKhKerew0RV",
        "outputId": "920068f5-244d-41f0-aa5d-b4153e5f8eba"
      },
      "execution_count": null,
      "outputs": [
        {
          "output_type": "execute_result",
          "data": {
            "text/plain": [
              "                    pitcher  p_throws     stand  release_speed  \\\n",
              "pitcher            1.000000 -0.238308  0.066568       0.133730   \n",
              "p_throws          -0.238308  1.000000 -0.266280       0.172848   \n",
              "stand              0.066568 -0.266280  1.000000      -0.042989   \n",
              "release_speed      0.133730  0.172848 -0.042989       1.000000   \n",
              "release_spin_rate -0.283217  0.370252 -0.049127       0.237348   \n",
              "spin_axis         -0.175634  0.245319 -0.207924       0.379401   \n",
              "pfx_x              0.268299 -0.448812  0.262913      -0.360720   \n",
              "pfx_z              0.168734 -0.150044  0.026605       0.717333   \n",
              "release_pos_x      0.488674 -0.926289  0.264665      -0.150657   \n",
              "release_pos_z      0.431571 -0.377512  0.120067      -0.141455   \n",
              "release_extension -0.092489 -0.134075  0.063111       0.348640   \n",
              "plate_x            0.001360  0.125281  0.147649      -0.033246   \n",
              "plate_z            0.069290  0.038587 -0.070705       0.323141   \n",
              "pitch_id           0.025653  0.012723 -0.009784       0.048404   \n",
              "\n",
              "                   release_spin_rate  spin_axis     pfx_x     pfx_z  \\\n",
              "pitcher                    -0.283217  -0.175634  0.268299  0.168734   \n",
              "p_throws                    0.370252   0.245319 -0.448812 -0.150044   \n",
              "stand                      -0.049127  -0.207924  0.262913  0.026605   \n",
              "release_speed               0.237348   0.379401 -0.360720  0.717333   \n",
              "release_spin_rate           1.000000  -0.259015  0.044923 -0.141406   \n",
              "spin_axis                  -0.259015   1.000000 -0.802807  0.370402   \n",
              "pfx_x                       0.044923  -0.802807  1.000000 -0.203264   \n",
              "pfx_z                      -0.141406   0.370402 -0.203264  1.000000   \n",
              "release_pos_x              -0.329294  -0.313282  0.481452  0.122595   \n",
              "release_pos_z              -0.333564  -0.082769  0.255377  0.262786   \n",
              "release_extension          -0.020571   0.086186 -0.104648  0.316208   \n",
              "plate_x                     0.122162  -0.209574  0.275152 -0.103621   \n",
              "plate_z                     0.065943   0.114017 -0.076269  0.363891   \n",
              "pitch_id                    0.047460  -0.031260  0.000455  0.034885   \n",
              "\n",
              "                   release_pos_x  release_pos_z  release_extension   plate_x  \\\n",
              "pitcher                 0.488674       0.431571          -0.092489  0.001360   \n",
              "p_throws               -0.926289      -0.377512          -0.134075  0.125281   \n",
              "stand                   0.264665       0.120067           0.063111  0.147649   \n",
              "release_speed          -0.150657      -0.141455           0.348640 -0.033246   \n",
              "release_spin_rate      -0.329294      -0.333564          -0.020571  0.122162   \n",
              "spin_axis              -0.313282      -0.082769           0.086186 -0.209574   \n",
              "pfx_x                   0.481452       0.255377          -0.104648  0.275152   \n",
              "pfx_z                   0.122595       0.262786           0.316208 -0.103621   \n",
              "release_pos_x           1.000000       0.472029           0.034220 -0.104701   \n",
              "release_pos_z           0.472029       1.000000          -0.187604 -0.116615   \n",
              "release_extension       0.034220      -0.187604           1.000000 -0.008828   \n",
              "plate_x                -0.104701      -0.116615          -0.008828  1.000000   \n",
              "plate_z                -0.037110       0.096348          -0.035151 -0.139354   \n",
              "pitch_id               -0.005530      -0.005682           0.113164  0.015110   \n",
              "\n",
              "                    plate_z  pitch_id  \n",
              "pitcher            0.069290  0.025653  \n",
              "p_throws           0.038587  0.012723  \n",
              "stand             -0.070705 -0.009784  \n",
              "release_speed      0.323141  0.048404  \n",
              "release_spin_rate  0.065943  0.047460  \n",
              "spin_axis          0.114017 -0.031260  \n",
              "pfx_x             -0.076269  0.000455  \n",
              "pfx_z              0.363891  0.034885  \n",
              "release_pos_x     -0.037110 -0.005530  \n",
              "release_pos_z      0.096348 -0.005682  \n",
              "release_extension -0.035151  0.113164  \n",
              "plate_x           -0.139354  0.015110  \n",
              "plate_z            1.000000 -0.002896  \n",
              "pitch_id          -0.002896  1.000000  "
            ],
            "text/html": [
              "\n",
              "  <div id=\"df-d43710b0-63f8-4d2b-98f1-8230a9fef71b\">\n",
              "    <div class=\"colab-df-container\">\n",
              "      <div>\n",
              "<style scoped>\n",
              "    .dataframe tbody tr th:only-of-type {\n",
              "        vertical-align: middle;\n",
              "    }\n",
              "\n",
              "    .dataframe tbody tr th {\n",
              "        vertical-align: top;\n",
              "    }\n",
              "\n",
              "    .dataframe thead th {\n",
              "        text-align: right;\n",
              "    }\n",
              "</style>\n",
              "<table border=\"1\" class=\"dataframe\">\n",
              "  <thead>\n",
              "    <tr style=\"text-align: right;\">\n",
              "      <th></th>\n",
              "      <th>pitcher</th>\n",
              "      <th>p_throws</th>\n",
              "      <th>stand</th>\n",
              "      <th>release_speed</th>\n",
              "      <th>release_spin_rate</th>\n",
              "      <th>spin_axis</th>\n",
              "      <th>pfx_x</th>\n",
              "      <th>pfx_z</th>\n",
              "      <th>release_pos_x</th>\n",
              "      <th>release_pos_z</th>\n",
              "      <th>release_extension</th>\n",
              "      <th>plate_x</th>\n",
              "      <th>plate_z</th>\n",
              "      <th>pitch_id</th>\n",
              "    </tr>\n",
              "  </thead>\n",
              "  <tbody>\n",
              "    <tr>\n",
              "      <th>pitcher</th>\n",
              "      <td>1.000000</td>\n",
              "      <td>-0.238308</td>\n",
              "      <td>0.066568</td>\n",
              "      <td>0.133730</td>\n",
              "      <td>-0.283217</td>\n",
              "      <td>-0.175634</td>\n",
              "      <td>0.268299</td>\n",
              "      <td>0.168734</td>\n",
              "      <td>0.488674</td>\n",
              "      <td>0.431571</td>\n",
              "      <td>-0.092489</td>\n",
              "      <td>0.001360</td>\n",
              "      <td>0.069290</td>\n",
              "      <td>0.025653</td>\n",
              "    </tr>\n",
              "    <tr>\n",
              "      <th>p_throws</th>\n",
              "      <td>-0.238308</td>\n",
              "      <td>1.000000</td>\n",
              "      <td>-0.266280</td>\n",
              "      <td>0.172848</td>\n",
              "      <td>0.370252</td>\n",
              "      <td>0.245319</td>\n",
              "      <td>-0.448812</td>\n",
              "      <td>-0.150044</td>\n",
              "      <td>-0.926289</td>\n",
              "      <td>-0.377512</td>\n",
              "      <td>-0.134075</td>\n",
              "      <td>0.125281</td>\n",
              "      <td>0.038587</td>\n",
              "      <td>0.012723</td>\n",
              "    </tr>\n",
              "    <tr>\n",
              "      <th>stand</th>\n",
              "      <td>0.066568</td>\n",
              "      <td>-0.266280</td>\n",
              "      <td>1.000000</td>\n",
              "      <td>-0.042989</td>\n",
              "      <td>-0.049127</td>\n",
              "      <td>-0.207924</td>\n",
              "      <td>0.262913</td>\n",
              "      <td>0.026605</td>\n",
              "      <td>0.264665</td>\n",
              "      <td>0.120067</td>\n",
              "      <td>0.063111</td>\n",
              "      <td>0.147649</td>\n",
              "      <td>-0.070705</td>\n",
              "      <td>-0.009784</td>\n",
              "    </tr>\n",
              "    <tr>\n",
              "      <th>release_speed</th>\n",
              "      <td>0.133730</td>\n",
              "      <td>0.172848</td>\n",
              "      <td>-0.042989</td>\n",
              "      <td>1.000000</td>\n",
              "      <td>0.237348</td>\n",
              "      <td>0.379401</td>\n",
              "      <td>-0.360720</td>\n",
              "      <td>0.717333</td>\n",
              "      <td>-0.150657</td>\n",
              "      <td>-0.141455</td>\n",
              "      <td>0.348640</td>\n",
              "      <td>-0.033246</td>\n",
              "      <td>0.323141</td>\n",
              "      <td>0.048404</td>\n",
              "    </tr>\n",
              "    <tr>\n",
              "      <th>release_spin_rate</th>\n",
              "      <td>-0.283217</td>\n",
              "      <td>0.370252</td>\n",
              "      <td>-0.049127</td>\n",
              "      <td>0.237348</td>\n",
              "      <td>1.000000</td>\n",
              "      <td>-0.259015</td>\n",
              "      <td>0.044923</td>\n",
              "      <td>-0.141406</td>\n",
              "      <td>-0.329294</td>\n",
              "      <td>-0.333564</td>\n",
              "      <td>-0.020571</td>\n",
              "      <td>0.122162</td>\n",
              "      <td>0.065943</td>\n",
              "      <td>0.047460</td>\n",
              "    </tr>\n",
              "    <tr>\n",
              "      <th>spin_axis</th>\n",
              "      <td>-0.175634</td>\n",
              "      <td>0.245319</td>\n",
              "      <td>-0.207924</td>\n",
              "      <td>0.379401</td>\n",
              "      <td>-0.259015</td>\n",
              "      <td>1.000000</td>\n",
              "      <td>-0.802807</td>\n",
              "      <td>0.370402</td>\n",
              "      <td>-0.313282</td>\n",
              "      <td>-0.082769</td>\n",
              "      <td>0.086186</td>\n",
              "      <td>-0.209574</td>\n",
              "      <td>0.114017</td>\n",
              "      <td>-0.031260</td>\n",
              "    </tr>\n",
              "    <tr>\n",
              "      <th>pfx_x</th>\n",
              "      <td>0.268299</td>\n",
              "      <td>-0.448812</td>\n",
              "      <td>0.262913</td>\n",
              "      <td>-0.360720</td>\n",
              "      <td>0.044923</td>\n",
              "      <td>-0.802807</td>\n",
              "      <td>1.000000</td>\n",
              "      <td>-0.203264</td>\n",
              "      <td>0.481452</td>\n",
              "      <td>0.255377</td>\n",
              "      <td>-0.104648</td>\n",
              "      <td>0.275152</td>\n",
              "      <td>-0.076269</td>\n",
              "      <td>0.000455</td>\n",
              "    </tr>\n",
              "    <tr>\n",
              "      <th>pfx_z</th>\n",
              "      <td>0.168734</td>\n",
              "      <td>-0.150044</td>\n",
              "      <td>0.026605</td>\n",
              "      <td>0.717333</td>\n",
              "      <td>-0.141406</td>\n",
              "      <td>0.370402</td>\n",
              "      <td>-0.203264</td>\n",
              "      <td>1.000000</td>\n",
              "      <td>0.122595</td>\n",
              "      <td>0.262786</td>\n",
              "      <td>0.316208</td>\n",
              "      <td>-0.103621</td>\n",
              "      <td>0.363891</td>\n",
              "      <td>0.034885</td>\n",
              "    </tr>\n",
              "    <tr>\n",
              "      <th>release_pos_x</th>\n",
              "      <td>0.488674</td>\n",
              "      <td>-0.926289</td>\n",
              "      <td>0.264665</td>\n",
              "      <td>-0.150657</td>\n",
              "      <td>-0.329294</td>\n",
              "      <td>-0.313282</td>\n",
              "      <td>0.481452</td>\n",
              "      <td>0.122595</td>\n",
              "      <td>1.000000</td>\n",
              "      <td>0.472029</td>\n",
              "      <td>0.034220</td>\n",
              "      <td>-0.104701</td>\n",
              "      <td>-0.037110</td>\n",
              "      <td>-0.005530</td>\n",
              "    </tr>\n",
              "    <tr>\n",
              "      <th>release_pos_z</th>\n",
              "      <td>0.431571</td>\n",
              "      <td>-0.377512</td>\n",
              "      <td>0.120067</td>\n",
              "      <td>-0.141455</td>\n",
              "      <td>-0.333564</td>\n",
              "      <td>-0.082769</td>\n",
              "      <td>0.255377</td>\n",
              "      <td>0.262786</td>\n",
              "      <td>0.472029</td>\n",
              "      <td>1.000000</td>\n",
              "      <td>-0.187604</td>\n",
              "      <td>-0.116615</td>\n",
              "      <td>0.096348</td>\n",
              "      <td>-0.005682</td>\n",
              "    </tr>\n",
              "    <tr>\n",
              "      <th>release_extension</th>\n",
              "      <td>-0.092489</td>\n",
              "      <td>-0.134075</td>\n",
              "      <td>0.063111</td>\n",
              "      <td>0.348640</td>\n",
              "      <td>-0.020571</td>\n",
              "      <td>0.086186</td>\n",
              "      <td>-0.104648</td>\n",
              "      <td>0.316208</td>\n",
              "      <td>0.034220</td>\n",
              "      <td>-0.187604</td>\n",
              "      <td>1.000000</td>\n",
              "      <td>-0.008828</td>\n",
              "      <td>-0.035151</td>\n",
              "      <td>0.113164</td>\n",
              "    </tr>\n",
              "    <tr>\n",
              "      <th>plate_x</th>\n",
              "      <td>0.001360</td>\n",
              "      <td>0.125281</td>\n",
              "      <td>0.147649</td>\n",
              "      <td>-0.033246</td>\n",
              "      <td>0.122162</td>\n",
              "      <td>-0.209574</td>\n",
              "      <td>0.275152</td>\n",
              "      <td>-0.103621</td>\n",
              "      <td>-0.104701</td>\n",
              "      <td>-0.116615</td>\n",
              "      <td>-0.008828</td>\n",
              "      <td>1.000000</td>\n",
              "      <td>-0.139354</td>\n",
              "      <td>0.015110</td>\n",
              "    </tr>\n",
              "    <tr>\n",
              "      <th>plate_z</th>\n",
              "      <td>0.069290</td>\n",
              "      <td>0.038587</td>\n",
              "      <td>-0.070705</td>\n",
              "      <td>0.323141</td>\n",
              "      <td>0.065943</td>\n",
              "      <td>0.114017</td>\n",
              "      <td>-0.076269</td>\n",
              "      <td>0.363891</td>\n",
              "      <td>-0.037110</td>\n",
              "      <td>0.096348</td>\n",
              "      <td>-0.035151</td>\n",
              "      <td>-0.139354</td>\n",
              "      <td>1.000000</td>\n",
              "      <td>-0.002896</td>\n",
              "    </tr>\n",
              "    <tr>\n",
              "      <th>pitch_id</th>\n",
              "      <td>0.025653</td>\n",
              "      <td>0.012723</td>\n",
              "      <td>-0.009784</td>\n",
              "      <td>0.048404</td>\n",
              "      <td>0.047460</td>\n",
              "      <td>-0.031260</td>\n",
              "      <td>0.000455</td>\n",
              "      <td>0.034885</td>\n",
              "      <td>-0.005530</td>\n",
              "      <td>-0.005682</td>\n",
              "      <td>0.113164</td>\n",
              "      <td>0.015110</td>\n",
              "      <td>-0.002896</td>\n",
              "      <td>1.000000</td>\n",
              "    </tr>\n",
              "  </tbody>\n",
              "</table>\n",
              "</div>\n",
              "      <button class=\"colab-df-convert\" onclick=\"convertToInteractive('df-d43710b0-63f8-4d2b-98f1-8230a9fef71b')\"\n",
              "              title=\"Convert this dataframe to an interactive table.\"\n",
              "              style=\"display:none;\">\n",
              "        \n",
              "  <svg xmlns=\"http://www.w3.org/2000/svg\" height=\"24px\"viewBox=\"0 0 24 24\"\n",
              "       width=\"24px\">\n",
              "    <path d=\"M0 0h24v24H0V0z\" fill=\"none\"/>\n",
              "    <path d=\"M18.56 5.44l.94 2.06.94-2.06 2.06-.94-2.06-.94-.94-2.06-.94 2.06-2.06.94zm-11 1L8.5 8.5l.94-2.06 2.06-.94-2.06-.94L8.5 2.5l-.94 2.06-2.06.94zm10 10l.94 2.06.94-2.06 2.06-.94-2.06-.94-.94-2.06-.94 2.06-2.06.94z\"/><path d=\"M17.41 7.96l-1.37-1.37c-.4-.4-.92-.59-1.43-.59-.52 0-1.04.2-1.43.59L10.3 9.45l-7.72 7.72c-.78.78-.78 2.05 0 2.83L4 21.41c.39.39.9.59 1.41.59.51 0 1.02-.2 1.41-.59l7.78-7.78 2.81-2.81c.8-.78.8-2.07 0-2.86zM5.41 20L4 18.59l7.72-7.72 1.47 1.35L5.41 20z\"/>\n",
              "  </svg>\n",
              "      </button>\n",
              "      \n",
              "  <style>\n",
              "    .colab-df-container {\n",
              "      display:flex;\n",
              "      flex-wrap:wrap;\n",
              "      gap: 12px;\n",
              "    }\n",
              "\n",
              "    .colab-df-convert {\n",
              "      background-color: #E8F0FE;\n",
              "      border: none;\n",
              "      border-radius: 50%;\n",
              "      cursor: pointer;\n",
              "      display: none;\n",
              "      fill: #1967D2;\n",
              "      height: 32px;\n",
              "      padding: 0 0 0 0;\n",
              "      width: 32px;\n",
              "    }\n",
              "\n",
              "    .colab-df-convert:hover {\n",
              "      background-color: #E2EBFA;\n",
              "      box-shadow: 0px 1px 2px rgba(60, 64, 67, 0.3), 0px 1px 3px 1px rgba(60, 64, 67, 0.15);\n",
              "      fill: #174EA6;\n",
              "    }\n",
              "\n",
              "    [theme=dark] .colab-df-convert {\n",
              "      background-color: #3B4455;\n",
              "      fill: #D2E3FC;\n",
              "    }\n",
              "\n",
              "    [theme=dark] .colab-df-convert:hover {\n",
              "      background-color: #434B5C;\n",
              "      box-shadow: 0px 1px 3px 1px rgba(0, 0, 0, 0.15);\n",
              "      filter: drop-shadow(0px 1px 2px rgba(0, 0, 0, 0.3));\n",
              "      fill: #FFFFFF;\n",
              "    }\n",
              "  </style>\n",
              "\n",
              "      <script>\n",
              "        const buttonEl =\n",
              "          document.querySelector('#df-d43710b0-63f8-4d2b-98f1-8230a9fef71b button.colab-df-convert');\n",
              "        buttonEl.style.display =\n",
              "          google.colab.kernel.accessAllowed ? 'block' : 'none';\n",
              "\n",
              "        async function convertToInteractive(key) {\n",
              "          const element = document.querySelector('#df-d43710b0-63f8-4d2b-98f1-8230a9fef71b');\n",
              "          const dataTable =\n",
              "            await google.colab.kernel.invokeFunction('convertToInteractive',\n",
              "                                                     [key], {});\n",
              "          if (!dataTable) return;\n",
              "\n",
              "          const docLinkHtml = 'Like what you see? Visit the ' +\n",
              "            '<a target=\"_blank\" href=https://colab.research.google.com/notebooks/data_table.ipynb>data table notebook</a>'\n",
              "            + ' to learn more about interactive tables.';\n",
              "          element.innerHTML = '';\n",
              "          dataTable['output_type'] = 'display_data';\n",
              "          await google.colab.output.renderOutput(dataTable, element);\n",
              "          const docLink = document.createElement('div');\n",
              "          docLink.innerHTML = docLinkHtml;\n",
              "          element.appendChild(docLink);\n",
              "        }\n",
              "      </script>\n",
              "    </div>\n",
              "  </div>\n",
              "  "
            ]
          },
          "metadata": {},
          "execution_count": 28
        }
      ]
    },
    {
      "cell_type": "markdown",
      "source": [
        "## Outlier Detection\n",
        "\n",
        "We will now look at whether outliers are present for each of the numeric variables. Based on what we see, we will decide which outliers to remove and which ones to keep"
      ],
      "metadata": {
        "id": "3RXFWKVRzWHS"
      }
    },
    {
      "cell_type": "code",
      "source": [
        "# The boxplots for each numeric variable\n",
        "\n",
        "plt.boxplot(data['pfx_x'])\n",
        "plt.title(\"Pfx_x Distribution\")\n",
        "plt.ylabel(\"Pfx_x\")\n",
        "plt.show()\n",
        "\n",
        "plt.boxplot(data['pfx_z'])\n",
        "plt.title(\"Pfx_z Distribution\")\n",
        "plt.ylabel(\"Pfx_z\")\n",
        "plt.show()\n",
        "\n",
        "plt.boxplot(data['release_speed'])\n",
        "plt.title(\"Release Speed Distribution\")\n",
        "plt.ylabel(\"Release Speed (mph)\")\n",
        "plt.show()\n",
        "\n",
        "plt.boxplot(data['release_spin_rate'])\n",
        "plt.title(\"Release Spin Rate Distribution\")\n",
        "plt.ylabel(\"Release Spin Rate\")\n",
        "plt.show()\n",
        "\n",
        "\n",
        "plt.boxplot(data['spin_axis'])\n",
        "plt.title(\"Spin Axis Distribution\")\n",
        "plt.ylabel(\"Spin Axis (Degrees)\")\n",
        "plt.show()\n",
        "\n",
        "plt.boxplot(data['plate_x'])\n",
        "plt.title(\"Plate X Distribution\")\n",
        "plt.ylabel(\"Plate X\")\n",
        "plt.show()\n",
        "\n",
        "plt.boxplot(data['plate_z'])\n",
        "plt.title(\"Plate Z Distribution\")\n",
        "plt.ylabel(\"Plate Z\")\n",
        "plt.show()"
      ],
      "metadata": {
        "colab": {
          "base_uri": "https://localhost:8080/",
          "height": 1000
        },
        "id": "OQo5LDk8-6fc",
        "outputId": "d2dc9398-dde5-41f2-a2f9-626a363d4d66"
      },
      "execution_count": null,
      "outputs": [
        {
          "output_type": "display_data",
          "data": {
            "text/plain": [
              "<Figure size 432x288 with 1 Axes>"
            ],
            "image/png": "[encoded data removed]"
          },
          "metadata": {
            "needs_background": "light"
          }
        },
        {
          "output_type": "display_data",
          "data": {
            "text/plain": [
              "<Figure size 432x288 with 1 Axes>"
            ],
            "image/png": "[encoded data removed]"
          },
          "metadata": {
            "needs_background": "light"
          }
        },
        {
          "output_type": "display_data",
          "data": {
            "text/plain": [
              "<Figure size 432x288 with 1 Axes>"
            ],
            "image/png": "[encoded data removed]"
          },
          "metadata": {
            "needs_background": "light"
          }
        },
        {
          "output_type": "display_data",
          "data": {
            "text/plain": [
              "<Figure size 432x288 with 1 Axes>"
            ],
            "image/png": "[encoded data removed]"
          },
          "metadata": {
            "needs_background": "light"
          }
        },
        {
          "output_type": "display_data",
          "data": {
            "text/plain": [
              "<Figure size 432x288 with 1 Axes>"
            ],
            "image/png": "[encoded data removed]"
          },
          "metadata": {
            "needs_background": "light"
          }
        },
        {
          "output_type": "display_data",
          "data": {
            "text/plain": [
              "<Figure size 432x288 with 1 Axes>"
            ],
            "image/png": "[encoded data removed]"
          },
          "metadata": {
            "needs_background": "light"
          }
        },
        {
          "output_type": "display_data",
          "data": {
            "text/plain": [
              "<Figure size 432x288 with 1 Axes>"
            ],
            "image/png": "[encoded data removed]"
          },
          "metadata": {
            "needs_background": "light"
          }
        }
      ]
    },
    {
      "cell_type": "markdown",
      "source": [
        "After making the above boxplots, there were definitely some features that needed to be further investigated. One of the things we took a look at are the outliers in both the Pfx_z and Release Speed variables. Looking at the plots, the outliers seemed to sort of correspond to one another. To see if this was the case or not, we made a scatter plot between these variables."
      ],
      "metadata": {
        "id": "BGY29l4NxECy"
      }
    },
    {
      "cell_type": "code",
      "source": [
        "import seaborn as sns\n",
        "\n",
        "sns.scatterplot('pfx_z', 'release_speed',data=data)\n",
        "plt.title(\"Pfx_z vs Release Speed\")\n",
        "plt.xlabel(\"Pfx_z\")\n",
        "plt.ylabel(\"Release Speed (mph)\")\n",
        "plt.show()\n",
        "\n",
        "palette = ['blue', 'green', 'orange', 'red', 'black', 'yellow', 'pink', 'purple']\n",
        "sns.scatterplot('pfx_z', 'release_speed',data=data,  hue=\"pitcher\", palette=palette)\n",
        "plt.legend(bbox_to_anchor=(1.02, 1), loc='upper left', borderaxespad=0)\n",
        "plt.title(\"Pfx_z vs Release Speed by Pitcher\")\n",
        "plt.xlabel(\"Pfx_z\")\n",
        "plt.ylabel(\"Release Speed (mph)\")\n",
        "plt.show()\n",
        "\n",
        "palette = ['blue', 'green', 'orange', 'red', 'black']\n",
        "sns.scatterplot('pfx_z', 'release_speed',data=data,  hue=\"pitch_name\", palette=palette)\n",
        "plt.legend(bbox_to_anchor=(1.02, 1), loc='upper left', borderaxespad=0)\n",
        "plt.title(\"Pfx_z vs Release Speed by Pitch Name\")\n",
        "plt.xlabel(\"Pfx_z\")\n",
        "plt.ylabel(\"Release Speed (mph)\")\n",
        "plt.show()\n"
      ],
      "metadata": {
        "colab": {
          "base_uri": "https://localhost:8080/",
          "height": 981
        },
        "id": "vIBD02ytx8Jq",
        "outputId": "eaa0ecc6-5dd4-42a9-a244-13b2a25ae260"
      },
      "execution_count": null,
      "outputs": [
        {
          "output_type": "stream",
          "name": "stderr",
          "text": [
            "/usr/local/lib/python3.7/dist-packages/seaborn/_decorators.py:43: FutureWarning: Pass the following variables as keyword args: x, y. From version 0.12, the only valid positional argument will be `data`, and passing other arguments without an explicit keyword will result in an error or misinterpretation.\n",
            "  FutureWarning\n"
          ]
        },
        {
          "output_type": "display_data",
          "data": {
            "text/plain": [
              "<Figure size 432x288 with 1 Axes>"
            ],
            "image/png": "[encoded data removed]"
          },
          "metadata": {
            "needs_background": "light"
          }
        },
        {
          "output_type": "stream",
          "name": "stderr",
          "text": [
            "/usr/local/lib/python3.7/dist-packages/seaborn/_decorators.py:43: FutureWarning: Pass the following variables as keyword args: x, y. From version 0.12, the only valid positional argument will be `data`, and passing other arguments without an explicit keyword will result in an error or misinterpretation.\n",
            "  FutureWarning\n"
          ]
        },
        {
          "output_type": "display_data",
          "data": {
            "text/plain": [
              "<Figure size 432x288 with 1 Axes>"
            ],
            "image/png": "[encoded data removed]"
          },
          "metadata": {
            "needs_background": "light"
          }
        },
        {
          "output_type": "stream",
          "name": "stderr",
          "text": [
            "/usr/local/lib/python3.7/dist-packages/seaborn/_decorators.py:43: FutureWarning: Pass the following variables as keyword args: x, y. From version 0.12, the only valid positional argument will be `data`, and passing other arguments without an explicit keyword will result in an error or misinterpretation.\n",
            "  FutureWarning\n"
          ]
        },
        {
          "output_type": "display_data",
          "data": {
            "text/plain": [
              "<Figure size 432x288 with 1 Axes>"
            ],
            "image/png": "[encoded data removed]"
          },
          "metadata": {
            "needs_background": "light"
          }
        }
      ]
    },
    {
      "cell_type": "markdown",
      "source": [
        "Our hunch appeared to be right as the main three outliers stood out. To further examine, we made two more scatterplots where the records were color-encoded based on pitcher and pitch name. Based on this it became apparent that the outliers are associated with one particular pitcher and it is classified as the same pitch as well. Based on background knowledge and looking at the last plot, it appears the pitches were probably misclassified as sinkers since they are so far from the other sinkers. Due to this, we will remove these outliers from the dataset entirely. "
      ],
      "metadata": {
        "id": "gxLsrbph5Cmi"
      }
    },
    {
      "cell_type": "markdown",
      "source": [
        "For the other variables, we believe the outliers don't need to be removed. Our reasonings for this our listed below for each of the respective variables:\n",
        "\n",
        "release_spin_rate: Since this data was from the 2021 MLB baseball season, outliers would be expected as their was controversy around the use of sticky substances all throughout season. It was commonly used by a lot of players and this really increased the spin rate. However, in 2021 they started to crack down on the use of these substances and hence there were dramatic declines in spin rate. This only took place midway through the season, hence why there is great variance and/or extremity in the values.\n",
        "\n",
        "spin_axis: This is just the axis where the ball spins, so the range of values is just 0 to 360. Even though in the boxplots they appear as outliers, they are actually all reasonable since they are within this expected range.\n",
        "\n",
        "plate_x and plate_z: Based on the many factors that go into a pitch, it is expected for the positioning of the pitches to vary widely. That's why there are lots and lots of outliers, but that is fine. There is no misclassification and is to be expected. Plus in later models like K_Nearest Neighbor and SVM we try removing these features entirely to see if it makes a difference in the predicting of the pitches. "
      ],
      "metadata": {
        "id": "fc0KTS1v5wQ3"
      }
    },
    {
      "cell_type": "code",
      "source": [
        "# Removed based on Domain knowledge\n",
        "del data['pitch_id']\n",
        "del data['description']\n",
        "del data['release_extension']\n",
        "del data['release_pos_x']\n",
        "del data['release_pos_z']\n",
        "del data['pitcher']\n",
        "\n",
        "# Altered based on outlier detection\n",
        "data = data[data['release_speed'] > 70]\n",
        "\n"
      ],
      "metadata": {
        "id": "MEqKpzLS-Ij3"
      },
      "execution_count": null,
      "outputs": []
    },
    {
      "cell_type": "code",
      "source": [
        "# What data looks like now after changes made\n",
        "print(data.head())"
      ],
      "metadata": {
        "colab": {
          "base_uri": "https://localhost:8080/"
        },
        "id": "967r0niw-Kay",
        "outputId": "9c9c79b3-b511-47bb-ef05-7b034634f05f"
      },
      "execution_count": null,
      "outputs": [
        {
          "output_type": "stream",
          "name": "stdout",
          "text": [
            "      p_throws  stand       pitch_name  release_speed  release_spin_rate  \\\n",
            "4000         1      1  4-Seam Fastball           94.3             2486.0   \n",
            "4001         1      1           Slider           84.7             2365.0   \n",
            "4003         1      1           Slider           85.0             2442.0   \n",
            "4004         1      1           Slider           85.5             2331.0   \n",
            "4005         1      1           Slider           84.2             2343.0   \n",
            "\n",
            "      spin_axis  pfx_x  pfx_z  plate_x  plate_z  \n",
            "4000      230.0  -1.22   1.44    -0.37     3.24  \n",
            "4001      173.0  -0.16   0.39    -0.78     1.42  \n",
            "4003      155.0   0.22   0.21     1.32     1.29  \n",
            "4004      215.0   0.04   0.37     1.02     1.35  \n",
            "4005      175.0   0.05   0.34    -0.02     2.13  \n"
          ]
        }
      ]
    },
    {
      "cell_type": "markdown",
      "source": [
        "**Note: As mentioned before, variables plate_x and plate_z are ones that we will experiment with in terms of leaving in or out for models that are sensitive to irrelevant features like K-Nearest Neighbor and SVM.**"
      ],
      "metadata": {
        "id": "SLHmRRHxzEv9"
      }
    },
    {
      "cell_type": "markdown",
      "source": [
        "In order to begin building classification models, we separate our dataset into two separate dataframes. One dataframe will contain all of the features of a pitch, while the other dataframe will hold the correct label for that pitch. These dataframes will be used to help build and evaluate our classification models."
      ],
      "metadata": {
        "id": "vJAcP_ZRmmFy"
      }
    },
    {
      "cell_type": "code",
      "source": [
        "data_labels = data['pitch_name'].to_frame()\n",
        "data_features = data.drop(['pitch_name'], axis=1)\n",
        "print(data_labels.head())\n",
        "print(data_features.head())"
      ],
      "metadata": {
        "colab": {
          "base_uri": "https://localhost:8080/"
        },
        "id": "k9v4DTp9-Kdw",
        "outputId": "b9614f36-edc3-4dad-a476-caef3f6013e0"
      },
      "execution_count": null,
      "outputs": [
        {
          "output_type": "stream",
          "name": "stdout",
          "text": [
            "           pitch_name\n",
            "4000  4-Seam Fastball\n",
            "4001           Slider\n",
            "4003           Slider\n",
            "4004           Slider\n",
            "4005           Slider\n",
            "      p_throws  stand  release_speed  release_spin_rate  spin_axis  pfx_x  \\\n",
            "4000         1      1           94.3             2486.0      230.0  -1.22   \n",
            "4001         1      1           84.7             2365.0      173.0  -0.16   \n",
            "4003         1      1           85.0             2442.0      155.0   0.22   \n",
            "4004         1      1           85.5             2331.0      215.0   0.04   \n",
            "4005         1      1           84.2             2343.0      175.0   0.05   \n",
            "\n",
            "      pfx_z  plate_x  plate_z  \n",
            "4000   1.44    -0.37     3.24  \n",
            "4001   0.39    -0.78     1.42  \n",
            "4003   0.21     1.32     1.29  \n",
            "4004   0.37     1.02     1.35  \n",
            "4005   0.34    -0.02     2.13  \n"
          ]
        }
      ]
    },
    {
      "cell_type": "markdown",
      "source": [
        "## **Modeling**\n",
        "In the below sections, we build a number of different models in the hopes of finding the one that best predicts the pitch label of a given pitch. When evaluating each model, the main evaluator we looked to use when looking at our models was accuracy. \n",
        "\n",
        "In some of the models, we do provide output that displays other evaluation metrics, such as precision and recall. In the context of baseball though, we felt that these evaluators were not as nearly as important as accuracy, as we don't really have a preference of predicting one specific type of pitch label over another. Along with that, when considering our dataset, we felt that our classes were fairly balanced, thus negating the need to look at precision and recall. Although there technically is an imbalance in our classes, we felt that it was not significant (as discussed in the below cell) enough to prefer precision and recall over accuracy."
      ],
      "metadata": {
        "id": "PXbhlA9pikjE"
      }
    },
    {
      "cell_type": "markdown",
      "source": [
        "## Class Imbalance Problem\n",
        "In the bar graph listed earlier in the notebook, it can be seen that we have a slight imbalance beween classes in our data. The majority pitch label, Fastball, occurs 6,502 times in our dataset, while other pitch labels occur somewhere between 3,300 and 1,600 times. We feel that, although a disparity exists between label types, the different counts are not large enough to significantly alter our modeling techniques. Thus, for every model, we create a model in which our original dataset is used.\n",
        "\n",
        "For the sake of completeness though, we do make use of SMOTE (Synthetic Minority Oversampling Technique) to artifically create a dataset in which all label counts are equal. Along with a model built around our original dataset, we build a model with the dataset created by SMOTE. This process is illustrated below."
      ],
      "metadata": {
        "id": "L4_sEpWlKT_H"
      }
    },
    {
      "cell_type": "code",
      "source": [
        "smote = SMOTE(random_state = 0, sampling_strategy = 'not majority')\n",
        "print(\"Data Counts Before SMOTE:\")\n",
        "print(data_labels.value_counts())\n",
        "print()\n",
        "x_smote, y_smote = smote.fit_resample(data_features, data_labels)\n",
        "print(\"Data Counts After SMOTE\")\n",
        "print(y_smote.value_counts())"
      ],
      "metadata": {
        "colab": {
          "base_uri": "https://localhost:8080/"
        },
        "id": "Z55gcOdLKWXW",
        "outputId": "b8d4a87b-25d2-440e-b335-0d8bc65dd89f"
      },
      "execution_count": null,
      "outputs": [
        {
          "output_type": "stream",
          "name": "stdout",
          "text": [
            "Data Counts Before SMOTE:\n",
            "pitch_name     \n",
            "4-Seam Fastball    6502\n",
            "Slider             3228\n",
            "Cutter             2989\n",
            "Changeup           2187\n",
            "Sinker             1610\n",
            "dtype: int64\n",
            "\n",
            "Data Counts After SMOTE\n",
            "pitch_name     \n",
            "4-Seam Fastball    6502\n",
            "Changeup           6502\n",
            "Cutter             6502\n",
            "Sinker             6502\n",
            "Slider             6502\n",
            "dtype: int64\n"
          ]
        }
      ]
    },
    {
      "cell_type": "markdown",
      "source": [
        "## Decision Tree Model\n",
        "The first model we tried was the Decision Tree model. We felt the use of a Decision Tree was appropriate because it is a simple classifier that are easy to build and interpret. The accuracy of Decision Trees are also not really affected by irrelevant attributes, so we thought that, even if our data still contained irrelevant features, we would still be getting an accurate classifier. In order to build our Decision Tree, we made use of nested cross-validation, using max_depth, min_samples_leaf, and max_features as our hyperparameters to tune. \n",
        "\n",
        "The first Decision Tree Model listed is the one created using our entire dataset. In this model, we achieved a fairly high accuracy score of 90.97%. In the cross-validation loop, we tuned the hyperparameters of max_depth, min_samples_leaf, max_features, and the split criterion. Along with accuracy, we display the precision, recall, and f1-score of the model. Even though are data might be considered unbalanced, these scores still appear to be fairly decent."
      ],
      "metadata": {
        "id": "XWj_pYPaix3x"
      }
    },
    {
      "cell_type": "code",
      "source": [
        "clf = DecisionTreeClassifier()\n",
        "param_grid = {\"max_depth\": [5,10,15,20, 25], \"min_samples_leaf\": [5,10,15,20], \"max_features\": [4,6,8], \"criterion\": ['entropy', 'gini']}\n",
        "grid_search = GridSearchCV(clf, param_grid, cv=5, scoring='accuracy')\n",
        "predict_y = cross_val_predict(grid_search, data_features, data_labels, cv = 10)\n",
        "print(\"Accuracy:\", accuracy_score(data_labels, predict_y) * 100)\n",
        "print()\n",
        "print(confusion_matrix(data_labels, predict_y))\n",
        "print(classification_report(data_labels, predict_y))"
      ],
      "metadata": {
        "id": "SKy5J7Kn-VVE",
        "colab": {
          "base_uri": "https://localhost:8080/"
        },
        "outputId": "e3d53b68-3a5c-4b51-fbfe-c0320faf7b02"
      },
      "execution_count": null,
      "outputs": [
        {
          "output_type": "stream",
          "name": "stdout",
          "text": [
            "Accuracy: 90.96633567449746\n",
            "\n",
            "[[6294   53   33   98   24]\n",
            " [  40 2116    1   23    7]\n",
            " [  17    4 2570   33  365]\n",
            " [ 157   29   16 1397   11]\n",
            " [  11   51  510    9 2647]]\n",
            "                 precision    recall  f1-score   support\n",
            "\n",
            "4-Seam Fastball       0.97      0.97      0.97      6502\n",
            "       Changeup       0.94      0.97      0.95      2187\n",
            "         Cutter       0.82      0.86      0.84      2989\n",
            "         Sinker       0.90      0.87      0.88      1610\n",
            "         Slider       0.87      0.82      0.84      3228\n",
            "\n",
            "       accuracy                           0.91     16516\n",
            "      macro avg       0.90      0.90      0.90     16516\n",
            "   weighted avg       0.91      0.91      0.91     16516\n",
            "\n"
          ]
        }
      ]
    },
    {
      "cell_type": "markdown",
      "source": [
        "The Decison Tree Model made using our SMOTE dataset is listed below. This model achieved an accuracy score of 89.08%, which is slightly worse than our model without having to use SMOTE. Based on this output, it appears that our assumptions that our model was fairly balanced was (somewhat) true. "
      ],
      "metadata": {
        "id": "W7QV-8CgMDfY"
      }
    },
    {
      "cell_type": "code",
      "source": [
        "from imblearn.pipeline import Pipeline as imbpipeline\n",
        "smote = SMOTE(random_state = 0, sampling_strategy = 'not majority')\n",
        "clf = DecisionTreeClassifier()\n",
        "pipe = imbpipeline(steps = [('smote', smote), ('clf', DecisionTreeClassifier())])\n",
        "param_grid = {\"clf__max_depth\": [5,10,15,20, 25], \"clf__min_samples_leaf\": [5,10,15,20], \"clf__max_features\": [4,6,8], \"clf__criterion\": ['entropy', 'gini']}\n",
        "grid_search = GridSearchCV(estimator = pipe, param_grid = param_grid, cv=5, scoring='accuracy')\n",
        "predict_y = cross_val_predict(grid_search, data_features, data_labels, cv = 10)\n",
        "print(\"Accuracy:\", accuracy_score(data_labels, predict_y) * 100)\n",
        "print()\n",
        "print(confusion_matrix(data_labels, predict_y))\n",
        "print(classification_report(data_labels, predict_y))"
      ],
      "metadata": {
        "colab": {
          "base_uri": "https://localhost:8080/"
        },
        "id": "W6oie6SwkLDw",
        "outputId": "a10f3d20-0bf3-4dd8-ad6d-c3433b660e20"
      },
      "execution_count": null,
      "outputs": [
        {
          "output_type": "stream",
          "name": "stdout",
          "text": [
            "Accuracy: 89.083313150884\n",
            "\n",
            "[[6045   45   94  300   18]\n",
            " [  37 2106    4   24   16]\n",
            " [  35    4 2559   40  351]\n",
            " [  96   33   18 1456    7]\n",
            " [   8   35  632    6 2547]]\n",
            "                 precision    recall  f1-score   support\n",
            "\n",
            "4-Seam Fastball       0.97      0.93      0.95      6502\n",
            "       Changeup       0.95      0.96      0.96      2187\n",
            "         Cutter       0.77      0.86      0.81      2989\n",
            "         Sinker       0.80      0.90      0.85      1610\n",
            "         Slider       0.87      0.79      0.83      3228\n",
            "\n",
            "       accuracy                           0.89     16516\n",
            "      macro avg       0.87      0.89      0.88     16516\n",
            "   weighted avg       0.90      0.89      0.89     16516\n",
            "\n"
          ]
        }
      ]
    },
    {
      "cell_type": "markdown",
      "source": [
        "## Naive Bayes Classifier\n",
        "The second model tried was a Naive Bayes Classifier. We once again made use of nested cross-validation and got a much lower accuracy score of 76.32%. This realtively poor accuracy score could possibly be explained by the fact that some of the attributes of the data are not independent of one another. A Naive Bayes Classifier operates under the assumption that all input features are statistically independent of one another. We don't believe that this is the case in this dataset, as well certian fetures, such as pfx_z and spin-rate, are not independent of one another. Because of this, when coupled with the relatively low accuracy score, we don't believe this is a suitable model for our dataset."
      ],
      "metadata": {
        "id": "hGD82baAopZZ"
      }
    },
    {
      "cell_type": "code",
      "source": [
        "clf = GaussianNB()\n",
        "nested_score = cross_val_score(clf, data_features, data_labels.values.ravel(), cv = 10)\n",
        "print(\"Accuracy:\", nested_score.mean()*100)\n",
        "predict_y = cross_val_predict(clf, data_features, data_labels.values.ravel(), cv = 10)\n",
        "print()\n",
        "print(classification_report(data_labels, predict_y))"
      ],
      "metadata": {
        "id": "FkiMUtQL-cYA",
        "colab": {
          "base_uri": "https://localhost:8080/"
        },
        "outputId": "ca058cb6-946b-48fa-89c7-af561a37ed1f"
      },
      "execution_count": null,
      "outputs": [
        {
          "output_type": "stream",
          "name": "stdout",
          "text": [
            "Accuracy: 76.32498757081703\n",
            "\n",
            "                 precision    recall  f1-score   support\n",
            "\n",
            "4-Seam Fastball       0.95      0.98      0.96      6502\n",
            "       Changeup       0.79      0.88      0.83      2187\n",
            "         Cutter       0.53      0.57      0.55      2989\n",
            "         Sinker       0.69      0.66      0.68      1610\n",
            "         Slider       0.59      0.49      0.53      3228\n",
            "\n",
            "       accuracy                           0.76     16516\n",
            "      macro avg       0.71      0.71      0.71     16516\n",
            "   weighted avg       0.76      0.76      0.76     16516\n",
            "\n"
          ]
        }
      ]
    },
    {
      "cell_type": "markdown",
      "source": [
        "For Naive Bayes, the with SMOTE performs slightly worse than the model that contains all of the data. The SMOTE model achieves an accuracy score of 74.92%. As stated above though, Naive Bayes probably isn't the best way to model our data, so we will not be using either of these models."
      ],
      "metadata": {
        "id": "twmPVH2-RBk2"
      }
    },
    {
      "cell_type": "code",
      "source": [
        "from imblearn.pipeline import Pipeline as imbpipeline\n",
        "smote = SMOTE(random_state=0, sampling_strategy='not majority')\n",
        "clf = GaussianNB()\n",
        "pipe = imbpipeline(steps = [(\"smote\", smote), (\"clf\", clf)])\n",
        "nested_score = cross_val_score(pipe, data_features, data_labels.values.ravel(), cv = 10)\n",
        "print(\"Accuracy:\", nested_score.mean()*100)\n",
        "predict_y = cross_val_predict(pipe, data_features, data_labels.values.ravel(), cv = 10)\n",
        "print()\n",
        "print(classification_report(data_labels, predict_y))"
      ],
      "metadata": {
        "colab": {
          "base_uri": "https://localhost:8080/"
        },
        "id": "nK3fZ1Nw5-3k",
        "outputId": "1e71b155-af1e-4e09-b27c-8600db6fc3af"
      },
      "execution_count": null,
      "outputs": [
        {
          "output_type": "stream",
          "name": "stdout",
          "text": [
            "Accuracy: 74.91993992928198\n",
            "\n",
            "                 precision    recall  f1-score   support\n",
            "\n",
            "4-Seam Fastball       0.96      0.96      0.96      6502\n",
            "       Changeup       0.78      0.87      0.83      2187\n",
            "         Cutter       0.51      0.51      0.51      2989\n",
            "         Sinker       0.57      0.69      0.63      1610\n",
            "         Slider       0.60      0.50      0.55      3228\n",
            "\n",
            "       accuracy                           0.75     16516\n",
            "      macro avg       0.69      0.71      0.69     16516\n",
            "   weighted avg       0.75      0.75      0.75     16516\n",
            "\n"
          ]
        }
      ]
    },
    {
      "cell_type": "markdown",
      "source": [
        "## K-Nearest Neighbor Model\n",
        "In this cell, we make use of a K-Nearest Neighbor Model. We felt that this classification model could be applicable to our data because we thought that pitches that share the same label would share similar features, and thus be \"close\" to one another. In order to build this model, we made scaled all of our data and made use of nested cross-validation, tweaking the hyperparameter of neighborhood size. Along with that, since this model tends to suffer from the curse of dimensionality, we also made use of PCA Dimensionality Reduction as a hyperparameter.\n",
        "\n",
        "This model performed fairly well, achieving an accuracy score of 87.34%. This score is superior to that of the Naive Bayes Classifier, but is slightly less than that of our Decision Tree Classifier. One possible explanation for this is that, even after feature engineering our dataset still might contain some irrelevant features. The accuracy of K-Nearest Neighbor models tend to suffer when irrelevant features are present, while the accuracy of a Decision Tree does not. It could also just be the case that a Deicison Tree models our data better than K-Nearest Neighbors does."
      ],
      "metadata": {
        "id": "R2fwlN85rnsp"
      }
    },
    {
      "cell_type": "code",
      "source": [
        "scaler = StandardScaler()\n",
        "scaler.mean_ = 0\n",
        "scaler.var_ = 1\n",
        "PCA = PCA()\n",
        "knn = KNeighborsClassifier()\n",
        "pipe = Pipeline(steps = [('scaler', scaler), ('PCA', PCA), ('knn', knn)])\n",
        "\n",
        "param_grid = {\n",
        "    'PCA__n_components': list(range(1, 10)),\n",
        "    'knn__n_neighbors': list(range(1, 26))\n",
        "}\n",
        "\n",
        "grid_search = GridSearchCV(pipe, param_grid, cv=5, scoring='accuracy')\n",
        "grid_search.fit(data_features, data_labels.values.ravel())\n",
        "nested_score = cross_val_score(grid_search, data_features, data_labels.values.ravel(), cv=5)\n",
        "print(\"Accuracy:\", nested_score.mean()*100)"
      ],
      "metadata": {
        "colab": {
          "base_uri": "https://localhost:8080/"
        },
        "id": "SfbV3nmK-fQZ",
        "outputId": "20d0ca60-73c0-45b3-9946-fb4976e19b5c"
      },
      "execution_count": null,
      "outputs": [
        {
          "output_type": "stream",
          "name": "stdout",
          "text": [
            "Accuracy: 87.34003096458648\n"
          ]
        }
      ]
    },
    {
      "cell_type": "markdown",
      "source": [
        "Similiar to our other models, we ran K-Nearest Neighbors while making use of SMOTE to balance out our data. The SMOTE Model achieved an accuracy score of 87.32%, which is basically the same as the non-SMOTE model. "
      ],
      "metadata": {
        "id": "cHQiOuQfs8P6"
      }
    },
    {
      "cell_type": "code",
      "source": [
        "from sklearn.decomposition import PCA\n",
        "from imblearn.pipeline import Pipeline as imbpipeline\n",
        "scaler = StandardScaler()\n",
        "scaler.mean_ = 0\n",
        "scaler.var_ = 1\n",
        "smote = SMOTE(random_state=0, sampling_strategy='not majority')\n",
        "knn = KNeighborsClassifier()\n",
        "enn = EditedNearestNeighbours()\n",
        "PCA = PCA()\n",
        "pipe = imbpipeline(steps = [('scaler', scaler), ('PCA', PCA), ('enn', enn), ('smote', smote), ('knn', knn)])\n",
        "\n",
        "param_grid = {\n",
        "    'PCA__n_components': list(range(1, 10)),\n",
        "    'knn__n_neighbors': list(range(1, 26))\n",
        "}\n",
        "\n",
        "grid_search = GridSearchCV(pipe, param_grid, cv=5, scoring='accuracy')\n",
        "nested_score = cross_val_score(grid_search, data_features, data_labels.values.ravel(), cv=5)\n",
        "print(\"Accuracy:\", nested_score.mean()*100)"
      ],
      "metadata": {
        "id": "U-i3b69J92yz",
        "colab": {
          "base_uri": "https://localhost:8080/"
        },
        "outputId": "505506c3-122f-4cf9-f85f-3116d9eaf474"
      },
      "execution_count": null,
      "outputs": [
        {
          "output_type": "stream",
          "name": "stdout",
          "text": [
            "Accuracy: 87.32193530131461\n"
          ]
        }
      ]
    },
    {
      "cell_type": "markdown",
      "source": [
        "We understand that K-Nearest Neighbors is sensitive to irrelevant features, so we decided to play around with 3 different variance thresholds (1, 0.75, 0.5) to try to eliminate possible irrelevant features."
      ],
      "metadata": {
        "id": "VHjFQnGeYASk"
      }
    },
    {
      "cell_type": "code",
      "source": [
        "from sklearn.feature_selection import VarianceThreshold\n",
        "from sklearn.decomposition import PCA\n",
        "\n",
        "sel = VarianceThreshold(threshold=(1))\n",
        "transformed_features = sel.fit_transform(data_features)\n",
        "number_of_features = len(transformed_features[0])\n",
        "print(\"Number of Features: \" + str(number_of_features))\n",
        "scaler = StandardScaler()\n",
        "scaler.mean_ = 0\n",
        "scaler.var_ = 1\n",
        "PCA = PCA()\n",
        "knn = KNeighborsClassifier()\n",
        "pipe = Pipeline(steps = [('sel', sel), ('scaler', scaler), ('PCA', PCA), ('knn', knn)])\n",
        "\n",
        "param_grid = {\n",
        "    'PCA__n_components': list(range(1, number_of_features + 1)),\n",
        "    'knn__n_neighbors': list(range(1, 26)),\n",
        "}\n",
        "\n",
        "grid_search = GridSearchCV(pipe, param_grid, cv=5, scoring='accuracy')\n",
        "grid_search.fit(data_features, data_labels.values.ravel())\n",
        "nested_score = cross_val_score(grid_search, data_features, data_labels.values.ravel(), cv=5)\n",
        "print(\"Accuracy:\", nested_score.mean()*100)"
      ],
      "metadata": {
        "colab": {
          "base_uri": "https://localhost:8080/"
        },
        "id": "xmieBgMsVccn",
        "outputId": "ec96da8a-2f8d-4a18-b984-59024190e7a0"
      },
      "execution_count": null,
      "outputs": [
        {
          "output_type": "stream",
          "name": "stdout",
          "text": [
            "Number of Features: 3\n",
            "Accuracy: 71.11923711586576\n"
          ]
        }
      ]
    },
    {
      "cell_type": "code",
      "source": [
        "from sklearn.feature_selection import VarianceThreshold\n",
        "from sklearn.decomposition import PCA\n",
        "\n",
        "sel = VarianceThreshold(threshold=(0.75))\n",
        "transformed_features = sel.fit_transform(data_features)\n",
        "number_of_features = len(transformed_features[0])\n",
        "print(\"Number of Features: \" + str(number_of_features))\n",
        "scaler = StandardScaler()\n",
        "scaler.mean_ = 0\n",
        "scaler.var_ = 1\n",
        "PCA = PCA()\n",
        "knn = KNeighborsClassifier()\n",
        "pipe = Pipeline(steps = [('sel', sel), ('scaler', scaler), ('PCA', PCA), ('knn', knn)])\n",
        "\n",
        "param_grid = {\n",
        "    'PCA__n_components': list(range(1, number_of_features + 1)),\n",
        "    'knn__n_neighbors': list(range(1, 26))\n",
        "}\n",
        "\n",
        "grid_search = GridSearchCV(pipe, param_grid, cv=5, scoring='accuracy')\n",
        "grid_search.fit(data_features, data_labels.values.ravel())\n",
        "nested_score = cross_val_score(grid_search, data_features, data_labels.values.ravel(), cv=5)\n",
        "print(\"Accuracy:\", nested_score.mean()*100)"
      ],
      "metadata": {
        "colab": {
          "base_uri": "https://localhost:8080/"
        },
        "id": "_kdwGjFSbFDC",
        "outputId": "0208a324-5ee6-4cd6-d6e5-052f0f2926c1"
      },
      "execution_count": null,
      "outputs": [
        {
          "output_type": "stream",
          "name": "stdout",
          "text": [
            "Number of Features: 4\n",
            "Accuracy: 70.55001176566317\n"
          ]
        }
      ]
    },
    {
      "cell_type": "code",
      "source": [
        "from sklearn.feature_selection import VarianceThreshold\n",
        "from sklearn.decomposition import PCA\n",
        "\n",
        "sel = VarianceThreshold(threshold=(0.5))\n",
        "transformed_features = sel.fit_transform(data_features)\n",
        "number_of_features = len(transformed_features[0])\n",
        "print(\"Number of Features: \" + str(number_of_features))\n",
        "scaler = StandardScaler()\n",
        "scaler.mean_ = 0\n",
        "scaler.var_ = 1\n",
        "PCA = PCA()\n",
        "knn = KNeighborsClassifier()\n",
        "pipe = Pipeline(steps = [('sel', sel), ('scaler', scaler), ('PCA', PCA), ('knn', knn)])\n",
        "\n",
        "param_grid = {\n",
        "    'PCA__n_components': list(range(1, number_of_features + 1)),\n",
        "    'knn__n_neighbors': list(range(1, 26))\n",
        "}\n",
        "\n",
        "grid_search = GridSearchCV(pipe, param_grid, cv=5, scoring='accuracy')\n",
        "grid_search.fit(data_features, data_labels.values.ravel())\n",
        "nested_score = cross_val_score(grid_search, data_features, data_labels.values.ravel(), cv=5)\n",
        "print(\"Accuracy:\", nested_score.mean()*100)"
      ],
      "metadata": {
        "colab": {
          "base_uri": "https://localhost:8080/"
        },
        "id": "9OBaWWyFbT-r",
        "outputId": "f0e66ff8-029e-47bb-c267-076022e7fb38"
      },
      "execution_count": null,
      "outputs": [
        {
          "output_type": "stream",
          "name": "stdout",
          "text": [
            "Number of Features: 6\n",
            "Accuracy: 77.65251561607724\n"
          ]
        }
      ]
    },
    {
      "cell_type": "markdown",
      "source": [
        "Based on the above results, it is apparent that low variance filtering led to significantly worse results. Due to this, we believe all our features are relevant with regards to variance."
      ],
      "metadata": {
        "id": "bIWfJ4MIfwnR"
      }
    },
    {
      "cell_type": "markdown",
      "source": [
        "As mentioned before, we played around with the removal of the plate_x, plate_z, and spin_axis variables. This can be seen in the following below cells."
      ],
      "metadata": {
        "id": "HwcaDReK_G2b"
      }
    },
    {
      "cell_type": "code",
      "source": [
        "from sklearn.decomposition import PCA\n",
        "scaler = StandardScaler()\n",
        "scaler.mean_ = 0\n",
        "scaler.var_ = 1\n",
        "PCA = PCA()\n",
        "data_features2 = data_features.drop(['plate_x', 'plate_z'], axis=1)\n",
        "print(data_features2.head())\n",
        "knn = KNeighborsClassifier()\n",
        "pipe = Pipeline(steps = [('scaler', scaler), ('PCA', PCA), ('knn', knn)])\n",
        "\n",
        "param_grid = {\n",
        "    'PCA__n_components': list(range(1, 8)),\n",
        "    'knn__n_neighbors': list(range(1, 26))\n",
        "}\n",
        "\n",
        "grid_search = GridSearchCV(pipe, param_grid, cv=5, scoring='accuracy')\n",
        "grid_search.fit(data_features2, data_labels.values.ravel())\n",
        "nested_score = cross_val_score(grid_search, data_features2, data_labels.values.ravel(), cv=5)\n",
        "print(\"Accuracy:\", nested_score.mean()*100)"
      ],
      "metadata": {
        "colab": {
          "base_uri": "https://localhost:8080/"
        },
        "id": "kdNq-NSu0W2f",
        "outputId": "f03aa82c-15a1-4abc-bd91-5248126fbbce"
      },
      "execution_count": null,
      "outputs": [
        {
          "output_type": "stream",
          "name": "stdout",
          "text": [
            "      p_throws  stand  release_speed  release_spin_rate  spin_axis  pfx_x  \\\n",
            "4000         1      1           94.3             2486.0      230.0  -1.22   \n",
            "4001         1      1           84.7             2365.0      173.0  -0.16   \n",
            "4003         1      1           85.0             2442.0      155.0   0.22   \n",
            "4004         1      1           85.5             2331.0      215.0   0.04   \n",
            "4005         1      1           84.2             2343.0      175.0   0.05   \n",
            "\n",
            "      pfx_z  \n",
            "4000   1.44  \n",
            "4001   0.39  \n",
            "4003   0.21  \n",
            "4004   0.37  \n",
            "4005   0.34  \n",
            "Accuracy: 89.72573909257046\n"
          ]
        }
      ]
    },
    {
      "cell_type": "code",
      "source": [
        "from sklearn.decomposition import PCA\n",
        "scaler = StandardScaler()\n",
        "scaler.mean_ = 0\n",
        "scaler.var_ = 1\n",
        "PCA = PCA()\n",
        "data_features3 = data_features.drop(['plate_x', 'plate_z', 'spin_axis'], axis=1)\n",
        "print(data_features3.head())\n",
        "knn = KNeighborsClassifier()\n",
        "pipe = Pipeline(steps = [('scaler', scaler), ('PCA', PCA), ('knn', knn)])\n",
        "\n",
        "param_grid = {\n",
        "    'PCA__n_components': list(range(1, 7)),\n",
        "    'knn__n_neighbors': list(range(1, 26))\n",
        "}\n",
        "\n",
        "grid_search = GridSearchCV(pipe, param_grid, cv=5, scoring='accuracy')\n",
        "grid_search.fit(data_features3, data_labels.values.ravel())\n",
        "nested_score = cross_val_score(grid_search, data_features3, data_labels.values.ravel(), cv=5)\n",
        "print(\"Accuracy:\", nested_score.mean()*100)"
      ],
      "metadata": {
        "colab": {
          "base_uri": "https://localhost:8080/"
        },
        "id": "2dJNTqeU6gTP",
        "outputId": "df3a9c82-c1c8-4646-8643-df957c8d0a36"
      },
      "execution_count": null,
      "outputs": [
        {
          "output_type": "stream",
          "name": "stdout",
          "text": [
            "      p_throws  stand  release_speed  release_spin_rate  pfx_x  pfx_z\n",
            "4000         1      1           94.3             2486.0  -1.22   1.44\n",
            "4001         1      1           84.7             2365.0  -0.16   0.39\n",
            "4003         1      1           85.0             2442.0   0.22   0.21\n",
            "4004         1      1           85.5             2331.0   0.04   0.37\n",
            "4005         1      1           84.2             2343.0   0.05   0.34\n",
            "Accuracy: 87.1463630172585\n"
          ]
        }
      ]
    },
    {
      "cell_type": "markdown",
      "source": [
        "The removal of plate_x and plate_z variables actually led to an improved accuracy of 89.72%. This appears to indicate that the plate_x and plate_z features may be unnecessary. On the other hand, when the spin_axis variable was dropped as well, the accuracy droppped down to 87.14%. This seems to imply that the spin_axis feature is relevant. We will see if these things hold true for this next model."
      ],
      "metadata": {
        "id": "yuGObXVvx1Jx"
      }
    },
    {
      "cell_type": "markdown",
      "source": [
        "## Support Vector Machine\n",
        "Another model we tried was a Support Vector Machine. This model performed the best out of all of our models, achieving an accuracy score of 92.72%. In order to create this model, we made use of nested cross-validation, tweaking the dimensionality of our data and the kernel functions. Along with that, we had to scale all of our data. We achieved this by making use of Sci-Kit learn's StandardScaler. \n",
        "\n",
        "One possible explanation for this score is that SVM's are considered optimization problems. They are not susceptible to the curse of dimensionality and they are guranteed to arrive at a globally optimal solution. The one downside to this model is that the creation of it was quite costly in terms of time, as it took nearly an hour. This was almost double the time taken to create the Decision Tree Model and K-Nearest Neighbors Classifier. This long amount of time ultimately proved to be beneficial, as this model provided us with the best accuracy score."
      ],
      "metadata": {
        "id": "svCXWFS4uuhX"
      }
    },
    {
      "cell_type": "code",
      "source": [
        "from sklearn.svm import SVC\n",
        "from sklearn.metrics import accuracy_score\n",
        "svc = SVC()\n",
        "pipe = Pipeline(steps = [('scaler', scaler), ('PCA', PCA), ('svc', svc)])\n",
        "param_grid = {\n",
        "    'PCA__n_components': list(range(1, 10)),\n",
        "    'svc__kernel': ['linear', 'rbf', 'poly']\n",
        "}\n",
        "\n",
        "grid_search = GridSearchCV(pipe, param_grid, cv=5, scoring='accuracy')\n",
        "predict_y = cross_val_predict(grid_search, data_features, data_labels.values.ravel(), cv = 10)\n",
        "print(classification_report(data_labels, predict_y))\n",
        "print(\"Accuracy:\", accuracy_score(data_labels, predict_y) * 100)"
      ],
      "metadata": {
        "colab": {
          "base_uri": "https://localhost:8080/"
        },
        "id": "ptrg5_1H-rqi",
        "outputId": "aa258225-cba6-4dd5-a6c6-5fde96e1b8aa"
      },
      "execution_count": null,
      "outputs": [
        {
          "output_type": "stream",
          "name": "stdout",
          "text": [
            "                 precision    recall  f1-score   support\n",
            "\n",
            "4-Seam Fastball       0.97      0.99      0.98      6502\n",
            "       Changeup       0.98      0.98      0.98      2187\n",
            "         Cutter       0.81      0.92      0.86      2989\n",
            "         Sinker       0.94      0.89      0.91      1610\n",
            "         Slider       0.92      0.80      0.86      3228\n",
            "\n",
            "       accuracy                           0.93     16516\n",
            "      macro avg       0.92      0.91      0.92     16516\n",
            "   weighted avg       0.93      0.93      0.93     16516\n",
            "\n",
            "Accuracy: 92.72220876725599\n"
          ]
        }
      ]
    },
    {
      "cell_type": "markdown",
      "source": [
        "The use of SMOTE coupled with an SVC to build a model is listed below. Similar to our SVC model that contained all of our data, this model performs very well on our data, acheiving an even better accuracy score of 93.18%. Along with that, like the regular SVC, this model took quite amount of time to build as it took nearly 4 hours for the code to run."
      ],
      "metadata": {
        "id": "G_cjqgQUt7C1"
      }
    },
    {
      "cell_type": "code",
      "source": [
        "from imblearn.pipeline import Pipeline as imbpipeline\n",
        "from sklearn.decomposition import PCA\n",
        "svc = SVC()\n",
        "PCA = PCA()\n",
        "scaler = StandardScaler()\n",
        "scaler.mean_ = 0\n",
        "scaler.var_ = 1\n",
        "smote = SMOTE(random_state=0, sampling_strategy='not majority')\n",
        "pipe = imbpipeline(steps = [('scaler', scaler), ('PCA', PCA), ('smote', smote), ('svc', svc)])\n",
        "param_grid = {\n",
        "    'PCA__n_components': list(range(1, 10)),\n",
        "    'svc__kernel': ['linear', 'rbf', 'poly']\n",
        "}\n",
        "\n",
        "grid_search = GridSearchCV(pipe, param_grid, cv=5, scoring='accuracy')\n",
        "predict_y = cross_val_predict(grid_search, data_features, data_labels.values.ravel(), cv = 10)\n",
        "print(classification_report(data_labels, predict_y))\n",
        "print(\"Accuracy:\", accuracy_score(data_labels, predict_y) * 100)"
      ],
      "metadata": {
        "colab": {
          "base_uri": "https://localhost:8080/"
        },
        "id": "v2BWE8Wht6DM",
        "outputId": "d62325f7-92bd-4597-d969-3b135fe0fcca"
      },
      "execution_count": null,
      "outputs": [
        {
          "output_type": "stream",
          "name": "stdout",
          "text": [
            "                 precision    recall  f1-score   support\n",
            "\n",
            "4-Seam Fastball       0.98      0.97      0.98      6502\n",
            "       Changeup       0.98      0.98      0.98      2187\n",
            "         Cutter       0.83      0.92      0.87      2989\n",
            "         Sinker       0.89      0.94      0.91      1610\n",
            "         Slider       0.93      0.82      0.87      3228\n",
            "\n",
            "       accuracy                           0.93     16516\n",
            "      macro avg       0.92      0.93      0.92     16516\n",
            "   weighted avg       0.93      0.93      0.93     16516\n",
            "\n",
            "Accuracy: 93.17631387745216\n"
          ]
        }
      ]
    },
    {
      "cell_type": "markdown",
      "source": [
        "As mentioned before, we played around with the removal of the plate_x, plate_z, and spin_axis variables. This can be seen in the following below cells."
      ],
      "metadata": {
        "id": "ecuLhXOO_bx5"
      }
    },
    {
      "cell_type": "code",
      "source": [
        "from imblearn.pipeline import Pipeline as imbpipeline\n",
        "from sklearn.decomposition import PCA\n",
        "from sklearn.svm import SVC\n",
        "svc = SVC()\n",
        "PCA = PCA()\n",
        "data_features4 = data_features.drop(['plate_x', 'plate_z'], axis=1)\n",
        "scaler = StandardScaler()\n",
        "scaler.mean_ = 0\n",
        "scaler.var_ = 1\n",
        "smote = SMOTE(random_state=0, sampling_strategy='not majority')\n",
        "pipe = imbpipeline(steps = [('scaler', scaler), ('PCA', PCA), ('smote', smote), ('svc', svc)])\n",
        "param_grid = {\n",
        "    'PCA__n_components': list(range(1, 8)),\n",
        "    'svc__kernel': ['linear', 'rbf', 'poly']\n",
        "}\n",
        "\n",
        "grid_search = GridSearchCV(pipe, param_grid, cv=5, scoring='accuracy')\n",
        "predict_y = cross_val_predict(grid_search, data_features4, data_labels.values.ravel(), cv = 10)\n",
        "print(classification_report(data_labels, predict_y))\n",
        "print(\"Accuracy:\", accuracy_score(data_labels, predict_y) * 100)"
      ],
      "metadata": {
        "colab": {
          "base_uri": "https://localhost:8080/"
        },
        "id": "0-w2ZKSeHheO",
        "outputId": "cdc9f6a9-e298-41e6-b2be-da8ec3c3e9e3"
      },
      "execution_count": null,
      "outputs": [
        {
          "output_type": "stream",
          "name": "stdout",
          "text": [
            "                 precision    recall  f1-score   support\n",
            "\n",
            "4-Seam Fastball       0.98      0.97      0.98      6502\n",
            "       Changeup       0.98      0.98      0.98      2187\n",
            "         Cutter       0.83      0.93      0.88      2989\n",
            "         Sinker       0.90      0.95      0.92      1610\n",
            "         Slider       0.93      0.83      0.88      3228\n",
            "\n",
            "       accuracy                           0.93     16516\n",
            "      macro avg       0.93      0.93      0.93     16516\n",
            "   weighted avg       0.94      0.93      0.94     16516\n",
            "\n",
            "Accuracy: 93.4972148219908\n"
          ]
        }
      ]
    },
    {
      "cell_type": "code",
      "source": [
        "from imblearn.pipeline import Pipeline as imbpipeline\n",
        "from sklearn.decomposition import PCA\n",
        "svc = SVC()\n",
        "PCA = PCA()\n",
        "data_features5 = data_features.drop(['plate_x', 'plate_z', 'spin_axis'], axis=1)\n",
        "scaler = StandardScaler()\n",
        "scaler.mean_ = 0\n",
        "scaler.var_ = 1\n",
        "smote = SMOTE(random_state=0, sampling_strategy='not majority')\n",
        "pipe = imbpipeline(steps = [('scaler', scaler), ('PCA', PCA), ('smote', smote), ('svc', svc)])\n",
        "param_grid = {\n",
        "    'PCA__n_components': list(range(1, 7)),\n",
        "    'svc__kernel': ['linear', 'rbf', 'poly']\n",
        "}\n",
        "\n",
        "grid_search = GridSearchCV(pipe, param_grid, cv=5, scoring='accuracy')\n",
        "predict_y = cross_val_predict(grid_search, data_features5, data_labels.values.ravel(), cv = 10)\n",
        "print(classification_report(data_labels, predict_y))\n",
        "print(\"Accuracy:\", accuracy_score(data_labels, predict_y) * 100)"
      ],
      "metadata": {
        "colab": {
          "base_uri": "https://localhost:8080/"
        },
        "id": "MsgGQWyUIc8Z",
        "outputId": "9734b957-59a4-4809-c10c-50c0a43195ad"
      },
      "execution_count": null,
      "outputs": [
        {
          "output_type": "stream",
          "name": "stdout",
          "text": [
            "                 precision    recall  f1-score   support\n",
            "\n",
            "4-Seam Fastball       0.98      0.96      0.97      6502\n",
            "       Changeup       0.98      0.97      0.98      2187\n",
            "         Cutter       0.80      0.90      0.84      2989\n",
            "         Sinker       0.85      0.94      0.89      1610\n",
            "         Slider       0.89      0.79      0.84      3228\n",
            "\n",
            "       accuracy                           0.91     16516\n",
            "      macro avg       0.90      0.91      0.90     16516\n",
            "   weighted avg       0.92      0.91      0.91     16516\n",
            "\n",
            "Accuracy: 91.4446597239041\n"
          ]
        }
      ]
    },
    {
      "cell_type": "markdown",
      "source": [
        "Like with the K-Nearest Neighbor Model, the removal of plate_x and plate_z features led to the creation of a model with a higher accuracy. In fact, this led to our best model yet as it has an accuracy score of 93.49%! Likewise, when the spin_axis variable was removed, this led to a model with a worse accuracy at 91.44%. This all seems to imply that plate_x and plate_z features are irrelevant, while the spin_axis feature is relevant."
      ],
      "metadata": {
        "id": "y5Eem1T0zqDr"
      }
    },
    {
      "cell_type": "markdown",
      "source": [
        "**Note: Based on results of K-means, we didn't feel it was necessary to do low variance filtering as based on those results it was a lot worse.**"
      ],
      "metadata": {
        "id": "uAAjQGM1fB5U"
      }
    },
    {
      "cell_type": "markdown",
      "source": [
        "## Neural Network\n",
        "A Neural Network was also looked at as we were evaluating various models. Similar to other models, we built this Neural Network through the use of nested cross-validation, using the hidden layer sizes and activation functions as hyperparameters. This model achieved an accuracy of 88.22%, which was a good score, but not quite to the level of our SVM and Decision Tree Model. One possible explanation for this performance is that Neural Networks are susceptible to getting stuck at a local minima, leading to the return of a non-optimal solution. "
      ],
      "metadata": {
        "id": "Aqq878KpxJab"
      }
    },
    {
      "cell_type": "code",
      "source": [
        "from sklearn.neural_network import MLPClassifier\n",
        "from sklearn.utils._testing import ignore_warnings\n",
        "from sklearn.exceptions import ConvergenceWarning\n",
        "\n",
        "@ignore_warnings(category=ConvergenceWarning)\n",
        "def run_nn():\n",
        "  neural_network = MLPClassifier()\n",
        "  pipe = Pipeline(steps = [('scaler', scaler), ('neural_network', neural_network)])\n",
        "  param_grid = {\n",
        "      'neural_network__hidden_layer_sizes': list(range(30, 61, 10)),\n",
        "      'neural_network__activation': ['logistic', 'tanh', 'relu']\n",
        "  }\n",
        "  grid_search = GridSearchCV(pipe, param_grid, cv=5, scoring='accuracy')\n",
        "  nested_score = cross_val_score(grid_search, data_features, data_labels.values.ravel(), cv=5)\n",
        "  print(\"Accuracy:\", nested_score.mean()*100)\n",
        "\n",
        "run_nn()"
      ],
      "metadata": {
        "colab": {
          "base_uri": "https://localhost:8080/"
        },
        "id": "9kQuHycG-t0U",
        "outputId": "0ab8c4f0-5611-4cb9-b573-2992f415cdb0"
      },
      "execution_count": null,
      "outputs": [
        {
          "output_type": "stream",
          "name": "stdout",
          "text": [
            "Accuracy: 88.21821859795813\n"
          ]
        }
      ]
    },
    {
      "cell_type": "markdown",
      "source": [
        "The other Neural Network we built made use of SMOTE in the pipeline. This model performed fairly similar to our basic Neural Network, as it acheived an accuracy score of 88.70%."
      ],
      "metadata": {
        "id": "PAZyo1HPz1mG"
      }
    },
    {
      "cell_type": "code",
      "source": [
        "from sklearn.neural_network import MLPClassifier\n",
        "from sklearn.utils._testing import ignore_warnings\n",
        "from sklearn.exceptions import ConvergenceWarning\n",
        "from imblearn.pipeline import Pipeline as imbpipeline\n",
        "\n",
        "@ignore_warnings(category=ConvergenceWarning)\n",
        "def run_nn():\n",
        "  scaler = StandardScaler()\n",
        "  scaler.mean_ = 0\n",
        "  scaler.var_ = 1\n",
        "  smote = SMOTE(random_state=0, sampling_strategy='not majority')\n",
        "  neural_network = MLPClassifier()\n",
        "  pipe = imbpipeline(steps = [('scaler', scaler), ('smote', smote), ('neural_network', neural_network)])\n",
        "  param_grid = {\n",
        "      'neural_network__hidden_layer_sizes': list(range(30, 61, 10)),\n",
        "      'neural_network__activation': ['logistic', 'tanh', 'relu']\n",
        "  }\n",
        "  grid_search = GridSearchCV(pipe, param_grid, cv=5, scoring='accuracy')\n",
        "  nested_score = cross_val_score(grid_search, data_features, data_labels.values.ravel(), cv=5)\n",
        "  print(\"Accuracy:\", nested_score.mean()*100)\n",
        "\n",
        "run_nn()"
      ],
      "metadata": {
        "colab": {
          "base_uri": "https://localhost:8080/"
        },
        "id": "pI2D_yOz-Pzu",
        "outputId": "7a7af2a3-a0a7-40da-8a98-1b7179840eba"
      },
      "execution_count": null,
      "outputs": [
        {
          "output_type": "stream",
          "name": "stdout",
          "text": [
            "Accuracy: 88.69646531621778\n"
          ]
        }
      ]
    },
    {
      "cell_type": "markdown",
      "source": [
        "## Ensemble Methods\n",
        "In the below section, we make use of various ensemble methods when building our models. We hoped that making use of various Ensemble Methods would help further improve our (already fairly accurate) models. In all of the Ensemble Methods we use Decision Trees as our base classifier for the ensemble method. Since, in our regular Decision Tree Classifier, there was almost no difference between using SMOTE our our dataset in comparison to just using our full dataset, we neglect to use SMOTE for these models.\n",
        "\n",
        "## Random Forests\n",
        "In this cell, a Random Forest Classifier is built to evaluate our data. We hoped that, like our Decision Tree Classifier, this model would provide us with an accurate model that is resistant to noise and irrelevant attributes. Similar to other models, we evaluated this model with nested cross-validation, using max_depth, min_samples_leaf, and max_features as our hyperparameters to tune. This model achieved an accuracy score of 87.85%, which is not quite as good as previous models we have looked at.\n"
      ],
      "metadata": {
        "id": "Z8vmoNRVvnD5"
      }
    },
    {
      "cell_type": "code",
      "source": [
        "from sklearn.ensemble import RandomForestClassifier\n",
        "forest_classifier = RandomForestClassifier()\n",
        "param_grid = {\n",
        "    'max_depth': list(range(10, 25)),\n",
        "    'min_samples_leaf': [8, 10, 12],\n",
        "    'max_features': ['sqrt', 'log2']\n",
        "}\n",
        "grid_search = GridSearchCV(forest_classifier, param_grid, cv=5, scoring='accuracy')\n",
        "nested_score = cross_val_score(grid_search, data_features, data_labels.values.ravel(), cv=5)\n",
        "print(\"Accuracy:\", nested_score.mean()*100)"
      ],
      "metadata": {
        "colab": {
          "base_uri": "https://localhost:8080/"
        },
        "id": "F1t5gr4--v63",
        "outputId": "5e26c8f6-b829-4461-b6f9-c41f045144f2"
      },
      "execution_count": null,
      "outputs": [
        {
          "output_type": "stream",
          "name": "stdout",
          "text": [
            "Accuracy: 87.84885374584263\n"
          ]
        }
      ]
    },
    {
      "cell_type": "markdown",
      "source": [
        "## AdaBoost (with Decision Trees)\n",
        "Along with a Random Forest Classifier, we also made use of the AdaBoost Ensemble method. Using Decision Trees as our base classifier, we hoped that the use of AdaBoost would create a highly accurate model. In this model, the hyperparameter we tuned in our nested cross-validation was the n_estimators variable. Suprisingly, this model did not perform very well relative to our other models. It achieved an accuracy score of 67.32%."
      ],
      "metadata": {
        "id": "m601nZXIxP1d"
      }
    },
    {
      "cell_type": "code",
      "source": [
        "from sklearn.ensemble import AdaBoostClassifier\n",
        "adaboost_classifier = AdaBoostClassifier()\n",
        "param_grid = {'n_estimators': list(range(100, 170, 10))}\n",
        "grid_search = GridSearchCV(adaboost_classifier, param_grid, cv=5, scoring='accuracy')\n",
        "nested_score = cross_val_score(grid_search, data_features, data_labels.values.ravel(), cv=5)\n",
        "print(\"Accuracy:\", nested_score.mean()*100)\n",
        "predict_y = cross_val_predict(grid_search, data_features, data_labels.values.ravel(), cv = 5)\n",
        "print(classification_report(data_labels, predict_y))"
      ],
      "metadata": {
        "colab": {
          "base_uri": "https://localhost:8080/"
        },
        "id": "ypnw9m4S-yEp",
        "outputId": "e0a30aa3-3ec4-445b-a875-3e8047edad4b"
      },
      "execution_count": null,
      "outputs": [
        {
          "output_type": "stream",
          "name": "stdout",
          "text": [
            "Accuracy: 67.31701644773736\n",
            "                 precision    recall  f1-score   support\n",
            "\n",
            "4-Seam Fastball       0.92      0.79      0.85      6502\n",
            "       Changeup       0.48      0.79      0.60      2187\n",
            "         Cutter       0.60      0.54      0.57      2989\n",
            "         Sinker       0.61      0.62      0.62      1610\n",
            "         Slider       0.55      0.50      0.53      3228\n",
            "\n",
            "       accuracy                           0.67     16516\n",
            "      macro avg       0.63      0.65      0.63     16516\n",
            "   weighted avg       0.70      0.67      0.68     16516\n",
            "\n"
          ]
        }
      ]
    },
    {
      "cell_type": "markdown",
      "source": [
        "## Gradient Boosting\n",
        "The final ensemble method we made use of was a Gradient Boosting Classifier. Although we did not learn about this ensemble method in class, Gradient Boosting is another boosting technique we read about and decided to try when working on this project. Similar to the other ensemble methods we used, a Decision Tree was built through nested cross-validation in order to build this model. As a whole, the Gradient Boosting Classifier performed better than all other ensemble methods, but not quite as good as the other models we created. This model achieved an accuracy score of 88.36% (and took almost 4 hours to run)."
      ],
      "metadata": {
        "id": "Avk0bqolyCHR"
      }
    },
    {
      "cell_type": "code",
      "source": [
        "gradient_classifier = GradientBoostingClassifier()\n",
        "param_grid = {\"max_depth\": [5,10,15], \"min_samples_leaf\": [5,10,15], \"max_features\": [4,6,8]}\n",
        "grid_search = GridSearchCV(gradient_classifier, param_grid, cv=5, scoring='accuracy')\n",
        "predict_y = cross_val_predict(grid_search, data_features, data_labels.values.ravel(), cv=5)\n",
        "print(\"Accuracy:\", accuracy_score(data_labels, predict_y) * 100)\n",
        "print()\n",
        "print(classification_report(data_labels, predict_y))"
      ],
      "metadata": {
        "colab": {
          "base_uri": "https://localhost:8080/"
        },
        "id": "inaxp75D-Inh",
        "outputId": "7cb77100-9ea5-45d3-a270-beecf45c3dba"
      },
      "execution_count": null,
      "outputs": [
        {
          "output_type": "stream",
          "name": "stdout",
          "text": [
            "Accuracy: 88.3567449745701\n",
            "\n",
            "                 precision    recall  f1-score   support\n",
            "\n",
            "4-Seam Fastball       0.96      0.98      0.97      6502\n",
            "       Changeup       0.97      0.88      0.93      2187\n",
            "         Cutter       0.74      0.86      0.80      2989\n",
            "         Sinker       0.82      0.86      0.84      1610\n",
            "         Slider       0.86      0.73      0.79      3228\n",
            "\n",
            "       accuracy                           0.88     16516\n",
            "      macro avg       0.87      0.86      0.86     16516\n",
            "   weighted avg       0.89      0.88      0.88     16516\n",
            "\n"
          ]
        }
      ]
    },
    {
      "cell_type": "markdown",
      "source": [
        "## **Final Model**\n",
        "In the end, based on accuracy of each of our models, the model that performed the best on our dataset was the Support Vector Machine (SVM) that made use of SMOTE technique and dropped the features/variables plate_x and plate_z. Although the SMOTE model performed similiarly to the non-SMOTE model, we chose to use it as our final model due to the slight increase in accuracy provided. In the cell below, this final SVM model is built. The model is not made using nested cross-validation and it incorporates our entire dataset. Based on the output, the final SVC Model projects our dataset into 7 dimensions (no reductions are done) and uses the RBF kernel fuction to transform the data. Based on the results of cross-validation on previous models, this final model should predict the pitch label of a given pitch with about 93.49% accuracy. "
      ],
      "metadata": {
        "id": "-8-PHyE-zfq7"
      }
    },
    {
      "cell_type": "code",
      "source": [
        "from imblearn.pipeline import Pipeline as imbpipeline\n",
        "from sklearn.decomposition import PCA\n",
        "from sklearn.svm import SVC\n",
        "svc = SVC()\n",
        "PCA = PCA()\n",
        "data_features4 = data_features.drop(['plate_x', 'plate_z'], axis=1)\n",
        "scaler = StandardScaler()\n",
        "scaler.mean_ = 0\n",
        "scaler.var_ = 1\n",
        "smote = SMOTE(random_state=0, sampling_strategy='not majority')\n",
        "pipe = imbpipeline(steps = [('scaler', scaler), ('PCA', PCA), ('smote', smote), ('svc', svc)])\n",
        "param_grid = {\n",
        "    'PCA__n_components': list(range(1, 8)),\n",
        "    'svc__kernel': ['linear', 'rbf', 'poly']\n",
        "}\n",
        "\n",
        "\n",
        "grid_search = GridSearchCV(pipe, param_grid, cv=5, scoring='accuracy')\n",
        "grid_search.fit(data_features4, data_labels.values.ravel())\n",
        "print(grid_search.best_params_)\n",
        "final_model = grid_search.best_estimator_\n",
        "\n",
        "filename = 'finalized_model.sav'\n",
        "pickle.dump(final_model, open(filename, 'wb'))"
      ],
      "metadata": {
        "id": "59e4JgK8WbJl",
        "colab": {
          "base_uri": "https://localhost:8080/"
        },
        "outputId": "26093f4f-7ec1-4527-f5e9-7d787355eba7"
      },
      "execution_count": null,
      "outputs": [
        {
          "output_type": "stream",
          "name": "stdout",
          "text": [
            "{'PCA__n_components': 7, 'svc__kernel': 'rbf'}\n"
          ]
        }
      ]
    },
    {
      "cell_type": "markdown",
      "source": [
        "## Conclusion/Takeaways\n",
        "\n",
        "As mentioned above, the SMOTE SVM model worked the best. However, there were other things that we took away from this analysis as well. For instance, it was interesting seeing how the removal of the variables plate_x and plate_z improved the accuracy of the model. These variables were not as important as we initially thought. It was also surprising how well all the models, not just our best one, did. A lot of them got accuracies in the high 80s. We didn't think that this data was that predictable beforehand, but obviously our models showed otherwise. It just goes to show the power of data mining techniques and how it can uncover things that you would never have expected beforehand."
      ],
      "metadata": {
        "id": "HRR6Yh_gj_kl"
      }
    }
  ]
}